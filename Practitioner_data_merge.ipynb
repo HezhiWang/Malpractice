{
 "cells": [
  {
   "cell_type": "code",
   "execution_count": 1,
   "metadata": {
    "collapsed": true
   },
   "outputs": [],
   "source": [
    "import numpy as np\n",
    "import pandas as pd"
   ]
  },
  {
   "cell_type": "code",
   "execution_count": 20,
   "metadata": {
    "collapsed": true
   },
   "outputs": [],
   "source": [
    "def f(df,x):\n",
    "    return len(df[x].value_counts()),df[x].value_counts()"
   ]
  },
  {
   "cell_type": "code",
   "execution_count": 139,
   "metadata": {
    "collapsed": true
   },
   "outputs": [],
   "source": [
    "d = pd.read_csv('table3.csv')\n",
    "d = d.drop(['ID'],axis=1)"
   ]
  },
  {
   "cell_type": "code",
   "execution_count": 29,
   "metadata": {
    "collapsed": false
   },
   "outputs": [
    {
     "data": {
      "text/html": [
       "<div>\n",
       "<table border=\"1\" class=\"dataframe\">\n",
       "  <thead>\n",
       "    <tr style=\"text-align: right;\">\n",
       "      <th></th>\n",
       "      <th>pro_cde</th>\n",
       "      <th>lic_id</th>\n",
       "      <th>lic_nbr</th>\n",
       "      <th>l_name</th>\n",
       "      <th>f_name</th>\n",
       "      <th>m_name</th>\n",
       "      <th>name_suffix</th>\n",
       "      <th>ml_addr_line1</th>\n",
       "      <th>ml_addr_line2</th>\n",
       "      <th>ml_addr_city</th>\n",
       "      <th>...</th>\n",
       "      <th>lic_sta_cde</th>\n",
       "      <th>lic_actv_sta_cde</th>\n",
       "      <th>lic_sta_desc</th>\n",
       "      <th>lic_actv_sta_desc</th>\n",
       "      <th>rank_cde</th>\n",
       "      <th>rank_desc</th>\n",
       "      <th>yr_began_practice</th>\n",
       "      <th>rank_efct_dte</th>\n",
       "      <th>orig_dte</th>\n",
       "      <th>expr_dte</th>\n",
       "    </tr>\n",
       "  </thead>\n",
       "  <tbody>\n",
       "    <tr>\n",
       "      <th>0</th>\n",
       "      <td>1901</td>\n",
       "      <td>1555</td>\n",
       "      <td>2607</td>\n",
       "      <td>RICHARD</td>\n",
       "      <td>RONALD</td>\n",
       "      <td>J</td>\n",
       "      <td>NaN</td>\n",
       "      <td>991 WYLIE RD #168</td>\n",
       "      <td>NaN</td>\n",
       "      <td>MARIETTA</td>\n",
       "      <td>...</td>\n",
       "      <td>60</td>\n",
       "      <td>NaN</td>\n",
       "      <td>NULL AND VOID</td>\n",
       "      <td>NaN</td>\n",
       "      <td>OS</td>\n",
       "      <td>Osteopathic Physician</td>\n",
       "      <td>NaN</td>\n",
       "      <td>8/10/70</td>\n",
       "      <td>8/10/70</td>\n",
       "      <td>12/31/1987</td>\n",
       "    </tr>\n",
       "    <tr>\n",
       "      <th>1</th>\n",
       "      <td>1901</td>\n",
       "      <td>1556</td>\n",
       "      <td>2608</td>\n",
       "      <td>HAMMOND</td>\n",
       "      <td>JOHN</td>\n",
       "      <td>E</td>\n",
       "      <td>NaN</td>\n",
       "      <td>3252 NEWGATE CT</td>\n",
       "      <td>NaN</td>\n",
       "      <td>DUBLIN</td>\n",
       "      <td>...</td>\n",
       "      <td>46</td>\n",
       "      <td>NaN</td>\n",
       "      <td>VOL-RELINQ</td>\n",
       "      <td>NaN</td>\n",
       "      <td>OS</td>\n",
       "      <td>Osteopathic Physician</td>\n",
       "      <td>NaN</td>\n",
       "      <td>8/10/70</td>\n",
       "      <td>8/10/70</td>\n",
       "      <td>12/31/1989</td>\n",
       "    </tr>\n",
       "    <tr>\n",
       "      <th>2</th>\n",
       "      <td>1901</td>\n",
       "      <td>1557</td>\n",
       "      <td>2609</td>\n",
       "      <td>HEIST</td>\n",
       "      <td>KENNETH</td>\n",
       "      <td>P</td>\n",
       "      <td>NaN</td>\n",
       "      <td>1 A REGULUS DR</td>\n",
       "      <td>NaN</td>\n",
       "      <td>TURNERSVILLE</td>\n",
       "      <td>...</td>\n",
       "      <td>60</td>\n",
       "      <td>NaN</td>\n",
       "      <td>NULL AND VOID</td>\n",
       "      <td>NaN</td>\n",
       "      <td>OS</td>\n",
       "      <td>Osteopathic Physician</td>\n",
       "      <td>NaN</td>\n",
       "      <td>8/10/70</td>\n",
       "      <td>8/10/70</td>\n",
       "      <td>01/31/2002</td>\n",
       "    </tr>\n",
       "  </tbody>\n",
       "</table>\n",
       "<p>3 rows × 41 columns</p>\n",
       "</div>"
      ],
      "text/plain": [
       "   pro_cde  lic_id  lic_nbr   l_name   f_name m_name name_suffix  \\\n",
       "0     1901    1555     2607  RICHARD   RONALD      J         NaN   \n",
       "1     1901    1556     2608  HAMMOND     JOHN      E         NaN   \n",
       "2     1901    1557     2609    HEIST  KENNETH      P         NaN   \n",
       "\n",
       "       ml_addr_line1 ml_addr_line2  ml_addr_city     ...     lic_sta_cde  \\\n",
       "0  991 WYLIE RD #168           NaN      MARIETTA     ...              60   \n",
       "1    3252 NEWGATE CT           NaN        DUBLIN     ...              46   \n",
       "2     1 A REGULUS DR           NaN  TURNERSVILLE     ...              60   \n",
       "\n",
       "  lic_actv_sta_cde   lic_sta_desc lic_actv_sta_desc rank_cde  \\\n",
       "0              NaN  NULL AND VOID               NaN       OS   \n",
       "1              NaN     VOL-RELINQ               NaN       OS   \n",
       "2              NaN  NULL AND VOID               NaN       OS   \n",
       "\n",
       "               rank_desc yr_began_practice rank_efct_dte  orig_dte    expr_dte  \n",
       "0  Osteopathic Physician               NaN       8/10/70   8/10/70  12/31/1987  \n",
       "1  Osteopathic Physician               NaN       8/10/70   8/10/70  12/31/1989  \n",
       "2  Osteopathic Physician               NaN       8/10/70   8/10/70  01/31/2002  \n",
       "\n",
       "[3 rows x 41 columns]"
      ]
     },
     "execution_count": 29,
     "metadata": {},
     "output_type": "execute_result"
    }
   ],
   "source": [
    "d.head(3)"
   ]
  },
  {
   "cell_type": "code",
   "execution_count": 30,
   "metadata": {
    "collapsed": false
   },
   "outputs": [
    {
     "data": {
      "text/plain": [
       "(204776, 41)"
      ]
     },
     "execution_count": 30,
     "metadata": {},
     "output_type": "execute_result"
    }
   ],
   "source": [
    "d.shape"
   ]
  },
  {
   "cell_type": "markdown",
   "metadata": {},
   "source": [
    "# Dataset 1 Educations"
   ]
  },
  {
   "cell_type": "code",
   "execution_count": 27,
   "metadata": {
    "collapsed": false
   },
   "outputs": [
    {
     "name": "stderr",
     "output_type": "stream",
     "text": [
      "/Users/evelynz/anaconda3/lib/python3.5/site-packages/IPython/core/interactiveshell.py:2723: DtypeWarning: Columns (9,12,15,17) have mixed types. Specify dtype option on import or set low_memory=False.\n",
      "  interactivity=interactivity, compiler=compiler, result=result)\n"
     ]
    }
   ],
   "source": [
    "#education\n",
    "d1 = pd.read_csv('Education_history.csv')\n",
    "d1 = d1.drop(['ID'],axis=1)\n",
    "d1.shape\n",
    "d1 = d1[['lic_id','pro_cde','inst_nme','deg_cert_earn_cde']]\n"
   ]
  },
  {
   "cell_type": "code",
   "execution_count": 38,
   "metadata": {
    "collapsed": false
   },
   "outputs": [
    {
     "data": {
      "text/plain": [
       "(625844, 4)"
      ]
     },
     "execution_count": 38,
     "metadata": {},
     "output_type": "execute_result"
    }
   ],
   "source": [
    "d10 = d1.drop_duplicates(['lic_id','pro_cde'])\n",
    "d10.shape"
   ]
  },
  {
   "cell_type": "code",
   "execution_count": 28,
   "metadata": {
    "collapsed": false
   },
   "outputs": [
    {
     "data": {
      "text/html": [
       "<div>\n",
       "<table border=\"1\" class=\"dataframe\">\n",
       "  <thead>\n",
       "    <tr style=\"text-align: right;\">\n",
       "      <th></th>\n",
       "      <th>lic_id</th>\n",
       "      <th>pro_cde</th>\n",
       "      <th>inst_nme</th>\n",
       "      <th>deg_cert_earn_cde</th>\n",
       "    </tr>\n",
       "  </thead>\n",
       "  <tbody>\n",
       "    <tr>\n",
       "      <th>0</th>\n",
       "      <td>13518</td>\n",
       "      <td>501</td>\n",
       "      <td>UNKNOWN</td>\n",
       "      <td>NaN</td>\n",
       "    </tr>\n",
       "    <tr>\n",
       "      <th>1</th>\n",
       "      <td>13517</td>\n",
       "      <td>501</td>\n",
       "      <td>UNKNOWN</td>\n",
       "      <td>NaN</td>\n",
       "    </tr>\n",
       "    <tr>\n",
       "      <th>2</th>\n",
       "      <td>13518</td>\n",
       "      <td>501</td>\n",
       "      <td>UNKNOWN</td>\n",
       "      <td>NaN</td>\n",
       "    </tr>\n",
       "  </tbody>\n",
       "</table>\n",
       "</div>"
      ],
      "text/plain": [
       "   lic_id  pro_cde inst_nme deg_cert_earn_cde\n",
       "0   13518      501  UNKNOWN               NaN\n",
       "1   13517      501  UNKNOWN               NaN\n",
       "2   13518      501  UNKNOWN               NaN"
      ]
     },
     "execution_count": 28,
     "metadata": {},
     "output_type": "execute_result"
    }
   ],
   "source": [
    "d1.head(3)"
   ]
  },
  {
   "cell_type": "code",
   "execution_count": 31,
   "metadata": {
    "collapsed": false
   },
   "outputs": [
    {
     "data": {
      "text/plain": [
       "(696085, 4)"
      ]
     },
     "execution_count": 31,
     "metadata": {},
     "output_type": "execute_result"
    }
   ],
   "source": [
    "d1.shape"
   ]
  },
  {
   "cell_type": "code",
   "execution_count": 41,
   "metadata": {
    "collapsed": true
   },
   "outputs": [],
   "source": [
    "dd1 = pd.merge(d,d10,how='left',on = ['lic_id','pro_cde'])"
   ]
  },
  {
   "cell_type": "code",
   "execution_count": 42,
   "metadata": {
    "collapsed": false
   },
   "outputs": [
    {
     "data": {
      "text/plain": [
       "(204776, 43)"
      ]
     },
     "execution_count": 42,
     "metadata": {},
     "output_type": "execute_result"
    }
   ],
   "source": [
    "dd1.shape"
   ]
  },
  {
   "cell_type": "code",
   "execution_count": 45,
   "metadata": {
    "collapsed": false
   },
   "outputs": [
    {
     "data": {
      "text/html": [
       "<div>\n",
       "<table border=\"1\" class=\"dataframe\">\n",
       "  <thead>\n",
       "    <tr style=\"text-align: right;\">\n",
       "      <th></th>\n",
       "      <th>pro_cde</th>\n",
       "      <th>lic_id</th>\n",
       "      <th>lic_nbr</th>\n",
       "      <th>l_name</th>\n",
       "      <th>f_name</th>\n",
       "      <th>m_name</th>\n",
       "      <th>name_suffix</th>\n",
       "      <th>ml_addr_line1</th>\n",
       "      <th>ml_addr_line2</th>\n",
       "      <th>ml_addr_city</th>\n",
       "      <th>...</th>\n",
       "      <th>lic_sta_desc</th>\n",
       "      <th>lic_actv_sta_desc</th>\n",
       "      <th>rank_cde</th>\n",
       "      <th>rank_desc</th>\n",
       "      <th>yr_began_practice</th>\n",
       "      <th>rank_efct_dte</th>\n",
       "      <th>orig_dte</th>\n",
       "      <th>expr_dte</th>\n",
       "      <th>inst_nme</th>\n",
       "      <th>deg_cert_earn_cde</th>\n",
       "    </tr>\n",
       "  </thead>\n",
       "  <tbody>\n",
       "    <tr>\n",
       "      <th>204771</th>\n",
       "      <td>1501</td>\n",
       "      <td>131034</td>\n",
       "      <td>131501</td>\n",
       "      <td>YUAN</td>\n",
       "      <td>CAI</td>\n",
       "      <td>NaN</td>\n",
       "      <td>NaN</td>\n",
       "      <td>737 LAKE CREST COVE</td>\n",
       "      <td>NaN</td>\n",
       "      <td>ALTAMONTE SPRINGS</td>\n",
       "      <td>...</td>\n",
       "      <td>CLEAR</td>\n",
       "      <td>ACTIVE</td>\n",
       "      <td>ME</td>\n",
       "      <td>Medical Doctor</td>\n",
       "      <td>07/01/2014</td>\n",
       "      <td>3/3/17</td>\n",
       "      <td>3/3/17</td>\n",
       "      <td>01/31/2019</td>\n",
       "      <td>SUN YAT-SEN UNIVERSITY</td>\n",
       "      <td>MBBS</td>\n",
       "    </tr>\n",
       "    <tr>\n",
       "      <th>204772</th>\n",
       "      <td>1507</td>\n",
       "      <td>1115</td>\n",
       "      <td>894</td>\n",
       "      <td>CASTILLO DELGADO</td>\n",
       "      <td>EVELYN</td>\n",
       "      <td>E</td>\n",
       "      <td>NaN</td>\n",
       "      <td>PO BOX 2064</td>\n",
       "      <td>NaN</td>\n",
       "      <td>HATILLO</td>\n",
       "      <td>...</td>\n",
       "      <td>CLEAR</td>\n",
       "      <td>ACTIVE</td>\n",
       "      <td>ACN</td>\n",
       "      <td>Area of Critical Need Medical Doctor</td>\n",
       "      <td>NaN</td>\n",
       "      <td>2/9/17</td>\n",
       "      <td>2/9/17</td>\n",
       "      <td>01/31/2018</td>\n",
       "      <td>NaN</td>\n",
       "      <td>NaN</td>\n",
       "    </tr>\n",
       "    <tr>\n",
       "      <th>204773</th>\n",
       "      <td>1701</td>\n",
       "      <td>574746</td>\n",
       "      <td>9448901</td>\n",
       "      <td>CARTY</td>\n",
       "      <td>ELLEN</td>\n",
       "      <td>T</td>\n",
       "      <td>NaN</td>\n",
       "      <td>110 BUCKSKIN PATH</td>\n",
       "      <td>NaN</td>\n",
       "      <td>CENTERVILLE</td>\n",
       "      <td>...</td>\n",
       "      <td>CLEAR</td>\n",
       "      <td>ACTIVE</td>\n",
       "      <td>ARNP</td>\n",
       "      <td>Adv Reg Nurse Practitioner</td>\n",
       "      <td>11/10/2016</td>\n",
       "      <td>12/6/16</td>\n",
       "      <td>12/2/16</td>\n",
       "      <td>07/31/2018</td>\n",
       "      <td>Old Dominion University</td>\n",
       "      <td>MSN</td>\n",
       "    </tr>\n",
       "    <tr>\n",
       "      <th>204774</th>\n",
       "      <td>1501</td>\n",
       "      <td>132213</td>\n",
       "      <td>131401</td>\n",
       "      <td>Friedman</td>\n",
       "      <td>Eitan</td>\n",
       "      <td>Reuven</td>\n",
       "      <td>NaN</td>\n",
       "      <td>1121 University Blvd W Apt 703</td>\n",
       "      <td>NaN</td>\n",
       "      <td>SILVER SPRING</td>\n",
       "      <td>...</td>\n",
       "      <td>CLEAR</td>\n",
       "      <td>ACTIVE</td>\n",
       "      <td>ME</td>\n",
       "      <td>Medical Doctor</td>\n",
       "      <td>07/01/2011</td>\n",
       "      <td>2/24/17</td>\n",
       "      <td>2/24/17</td>\n",
       "      <td>01/31/2019</td>\n",
       "      <td>UNIVERSITY OF MARYLAND BALTIMORE COUNTY</td>\n",
       "      <td>NaN</td>\n",
       "    </tr>\n",
       "    <tr>\n",
       "      <th>204775</th>\n",
       "      <td>1901</td>\n",
       "      <td>14056</td>\n",
       "      <td>14394</td>\n",
       "      <td>Peek</td>\n",
       "      <td>Elizabeth</td>\n",
       "      <td>Dantzler</td>\n",
       "      <td>NaN</td>\n",
       "      <td>3823 West Obispo St</td>\n",
       "      <td>NaN</td>\n",
       "      <td>TAMPA</td>\n",
       "      <td>...</td>\n",
       "      <td>CLEAR</td>\n",
       "      <td>ACTIVE</td>\n",
       "      <td>OS</td>\n",
       "      <td>Osteopathic Physician</td>\n",
       "      <td>NaN</td>\n",
       "      <td>1/6/17</td>\n",
       "      <td>1/6/17</td>\n",
       "      <td>03/31/2018</td>\n",
       "      <td>LAKE ERIE COLLEGE OF OSTEOPATHIC</td>\n",
       "      <td>DOCTOR OF OSTEOPATHIC MEDICINE</td>\n",
       "    </tr>\n",
       "  </tbody>\n",
       "</table>\n",
       "<p>5 rows × 43 columns</p>\n",
       "</div>"
      ],
      "text/plain": [
       "        pro_cde  lic_id  lic_nbr            l_name     f_name    m_name  \\\n",
       "204771     1501  131034   131501              YUAN        CAI       NaN   \n",
       "204772     1507    1115      894  CASTILLO DELGADO     EVELYN         E   \n",
       "204773     1701  574746  9448901             CARTY      ELLEN         T   \n",
       "204774     1501  132213   131401          Friedman      Eitan    Reuven   \n",
       "204775     1901   14056    14394              Peek  Elizabeth  Dantzler   \n",
       "\n",
       "       name_suffix                   ml_addr_line1 ml_addr_line2  \\\n",
       "204771         NaN             737 LAKE CREST COVE           NaN   \n",
       "204772         NaN                     PO BOX 2064           NaN   \n",
       "204773         NaN               110 BUCKSKIN PATH           NaN   \n",
       "204774         NaN  1121 University Blvd W Apt 703           NaN   \n",
       "204775         NaN             3823 West Obispo St           NaN   \n",
       "\n",
       "             ml_addr_city               ...               lic_sta_desc  \\\n",
       "204771  ALTAMONTE SPRINGS               ...                      CLEAR   \n",
       "204772            HATILLO               ...                      CLEAR   \n",
       "204773        CENTERVILLE               ...                      CLEAR   \n",
       "204774      SILVER SPRING               ...                      CLEAR   \n",
       "204775              TAMPA               ...                      CLEAR   \n",
       "\n",
       "       lic_actv_sta_desc  rank_cde                             rank_desc  \\\n",
       "204771            ACTIVE        ME                        Medical Doctor   \n",
       "204772            ACTIVE       ACN  Area of Critical Need Medical Doctor   \n",
       "204773            ACTIVE      ARNP            Adv Reg Nurse Practitioner   \n",
       "204774            ACTIVE        ME                        Medical Doctor   \n",
       "204775            ACTIVE        OS                 Osteopathic Physician   \n",
       "\n",
       "       yr_began_practice rank_efct_dte orig_dte    expr_dte  \\\n",
       "204771        07/01/2014        3/3/17   3/3/17  01/31/2019   \n",
       "204772               NaN        2/9/17   2/9/17  01/31/2018   \n",
       "204773        11/10/2016       12/6/16  12/2/16  07/31/2018   \n",
       "204774        07/01/2011       2/24/17  2/24/17  01/31/2019   \n",
       "204775               NaN        1/6/17   1/6/17  03/31/2018   \n",
       "\n",
       "                                       inst_nme  \\\n",
       "204771                   SUN YAT-SEN UNIVERSITY   \n",
       "204772                                      NaN   \n",
       "204773                  Old Dominion University   \n",
       "204774  UNIVERSITY OF MARYLAND BALTIMORE COUNTY   \n",
       "204775         LAKE ERIE COLLEGE OF OSTEOPATHIC   \n",
       "\n",
       "                     deg_cert_earn_cde  \n",
       "204771                            MBBS  \n",
       "204772                             NaN  \n",
       "204773                             MSN  \n",
       "204774                             NaN  \n",
       "204775  DOCTOR OF OSTEOPATHIC MEDICINE  \n",
       "\n",
       "[5 rows x 43 columns]"
      ]
     },
     "execution_count": 45,
     "metadata": {},
     "output_type": "execute_result"
    }
   ],
   "source": [
    "dd1.tail(5)"
   ]
  },
  {
   "cell_type": "markdown",
   "metadata": {},
   "source": [
    "# Dataset 2 Certifications"
   ]
  },
  {
   "cell_type": "code",
   "execution_count": 25,
   "metadata": {
    "collapsed": false
   },
   "outputs": [
    {
     "data": {
      "text/html": [
       "<div>\n",
       "<table border=\"1\" class=\"dataframe\">\n",
       "  <thead>\n",
       "    <tr style=\"text-align: right;\">\n",
       "      <th></th>\n",
       "      <th>pro_cde</th>\n",
       "      <th>lic_id</th>\n",
       "      <th>rec_id</th>\n",
       "      <th>specialty_cert</th>\n",
       "    </tr>\n",
       "  </thead>\n",
       "  <tbody>\n",
       "    <tr>\n",
       "      <th>0</th>\n",
       "      <td>1501</td>\n",
       "      <td>132355</td>\n",
       "      <td>105957269</td>\n",
       "      <td>TS - THORACIC SURGERY</td>\n",
       "    </tr>\n",
       "    <tr>\n",
       "      <th>1</th>\n",
       "      <td>1501</td>\n",
       "      <td>132355</td>\n",
       "      <td>105957268</td>\n",
       "      <td>GS - SURGERY</td>\n",
       "    </tr>\n",
       "    <tr>\n",
       "      <th>2</th>\n",
       "      <td>1501</td>\n",
       "      <td>132492</td>\n",
       "      <td>105634674</td>\n",
       "      <td>IM - HEMATOLOGY AND ONCOLOGY</td>\n",
       "    </tr>\n",
       "  </tbody>\n",
       "</table>\n",
       "</div>"
      ],
      "text/plain": [
       "   pro_cde  lic_id     rec_id                specialty_cert\n",
       "0     1501  132355  105957269         TS - THORACIC SURGERY\n",
       "1     1501  132355  105957268                  GS - SURGERY\n",
       "2     1501  132492  105634674  IM - HEMATOLOGY AND ONCOLOGY"
      ]
     },
     "execution_count": 25,
     "metadata": {},
     "output_type": "execute_result"
    }
   ],
   "source": [
    "# Certifications\n",
    "d2 = pd.read_csv('Tp_certifications.csv')\n",
    "d2 = d2.drop(['ID'],axis=1)\n",
    "f(d2,'specialty_cert')\n",
    "d2 = d2.drop(['specialty_brd'],axis=1)\n",
    "d2.head(3)"
   ]
  },
  {
   "cell_type": "code",
   "execution_count": 100,
   "metadata": {
    "collapsed": false
   },
   "outputs": [],
   "source": [
    "def countfreq(d2):\n",
    "    a = {}\n",
    "    for i in range(d2.shape[0]):\n",
    "        if a.get((d2['pro_cde'].ix[i], d2['lic_id'].ix[i])) == None:\n",
    "            a[(d2['pro_cde'].ix[i], d2['lic_id'].ix[i])] = 1\n",
    "        else:\n",
    "            a[(d2['pro_cde'].ix[i], d2['lic_id'].ix[i])] += 1\n",
    "    l1,l2,l3=[],[],[]\n",
    "    for (k1,k2),v in a.items():\n",
    "        l1.append(k1)\n",
    "        l2.append(k2)\n",
    "        l3.append(v)\n",
    "    return l1, l2, l3"
   ]
  },
  {
   "cell_type": "code",
   "execution_count": 92,
   "metadata": {
    "collapsed": true
   },
   "outputs": [],
   "source": [
    "d2a = pd.DataFrame({'pro_cde':l1,'lic_id':l2,'specialty_cert_count':l3}) "
   ]
  },
  {
   "cell_type": "code",
   "execution_count": 93,
   "metadata": {
    "collapsed": false
   },
   "outputs": [
    {
     "data": {
      "text/plain": [
       "(111734, 3)"
      ]
     },
     "execution_count": 93,
     "metadata": {},
     "output_type": "execute_result"
    }
   ],
   "source": [
    "d2a.shape"
   ]
  },
  {
   "cell_type": "code",
   "execution_count": 94,
   "metadata": {
    "collapsed": true
   },
   "outputs": [],
   "source": [
    "dd2 = pd.merge(dd1,d2a,how='left',on = ['lic_id','pro_cde'])"
   ]
  },
  {
   "cell_type": "code",
   "execution_count": 95,
   "metadata": {
    "collapsed": false
   },
   "outputs": [
    {
     "data": {
      "text/plain": [
       "(204776, 44)"
      ]
     },
     "execution_count": 95,
     "metadata": {},
     "output_type": "execute_result"
    }
   ],
   "source": [
    "dd2.shape"
   ]
  },
  {
   "cell_type": "code",
   "execution_count": 97,
   "metadata": {
    "collapsed": false
   },
   "outputs": [],
   "source": [
    "dd2['specialty_cert_count'].fillna(0, inplace=True)"
   ]
  },
  {
   "cell_type": "code",
   "execution_count": 98,
   "metadata": {
    "collapsed": false
   },
   "outputs": [
    {
     "data": {
      "text/html": [
       "<div>\n",
       "<table border=\"1\" class=\"dataframe\">\n",
       "  <thead>\n",
       "    <tr style=\"text-align: right;\">\n",
       "      <th></th>\n",
       "      <th>pro_cde</th>\n",
       "      <th>lic_id</th>\n",
       "      <th>lic_nbr</th>\n",
       "      <th>l_name</th>\n",
       "      <th>f_name</th>\n",
       "      <th>m_name</th>\n",
       "      <th>name_suffix</th>\n",
       "      <th>ml_addr_line1</th>\n",
       "      <th>ml_addr_line2</th>\n",
       "      <th>ml_addr_city</th>\n",
       "      <th>...</th>\n",
       "      <th>lic_actv_sta_desc</th>\n",
       "      <th>rank_cde</th>\n",
       "      <th>rank_desc</th>\n",
       "      <th>yr_began_practice</th>\n",
       "      <th>rank_efct_dte</th>\n",
       "      <th>orig_dte</th>\n",
       "      <th>expr_dte</th>\n",
       "      <th>inst_nme</th>\n",
       "      <th>deg_cert_earn_cde</th>\n",
       "      <th>specialty_cert_count</th>\n",
       "    </tr>\n",
       "  </thead>\n",
       "  <tbody>\n",
       "    <tr>\n",
       "      <th>0</th>\n",
       "      <td>1901</td>\n",
       "      <td>1555</td>\n",
       "      <td>2607</td>\n",
       "      <td>RICHARD</td>\n",
       "      <td>RONALD</td>\n",
       "      <td>J</td>\n",
       "      <td>NaN</td>\n",
       "      <td>991 WYLIE RD #168</td>\n",
       "      <td>NaN</td>\n",
       "      <td>MARIETTA</td>\n",
       "      <td>...</td>\n",
       "      <td>NaN</td>\n",
       "      <td>OS</td>\n",
       "      <td>Osteopathic Physician</td>\n",
       "      <td>NaN</td>\n",
       "      <td>8/10/70</td>\n",
       "      <td>8/10/70</td>\n",
       "      <td>12/31/1987</td>\n",
       "      <td>NaN</td>\n",
       "      <td>NaN</td>\n",
       "      <td>0.0</td>\n",
       "    </tr>\n",
       "    <tr>\n",
       "      <th>1</th>\n",
       "      <td>1901</td>\n",
       "      <td>1556</td>\n",
       "      <td>2608</td>\n",
       "      <td>HAMMOND</td>\n",
       "      <td>JOHN</td>\n",
       "      <td>E</td>\n",
       "      <td>NaN</td>\n",
       "      <td>3252 NEWGATE CT</td>\n",
       "      <td>NaN</td>\n",
       "      <td>DUBLIN</td>\n",
       "      <td>...</td>\n",
       "      <td>NaN</td>\n",
       "      <td>OS</td>\n",
       "      <td>Osteopathic Physician</td>\n",
       "      <td>NaN</td>\n",
       "      <td>8/10/70</td>\n",
       "      <td>8/10/70</td>\n",
       "      <td>12/31/1989</td>\n",
       "      <td>NaN</td>\n",
       "      <td>NaN</td>\n",
       "      <td>0.0</td>\n",
       "    </tr>\n",
       "    <tr>\n",
       "      <th>2</th>\n",
       "      <td>1901</td>\n",
       "      <td>1557</td>\n",
       "      <td>2609</td>\n",
       "      <td>HEIST</td>\n",
       "      <td>KENNETH</td>\n",
       "      <td>P</td>\n",
       "      <td>NaN</td>\n",
       "      <td>1 A REGULUS DR</td>\n",
       "      <td>NaN</td>\n",
       "      <td>TURNERSVILLE</td>\n",
       "      <td>...</td>\n",
       "      <td>NaN</td>\n",
       "      <td>OS</td>\n",
       "      <td>Osteopathic Physician</td>\n",
       "      <td>NaN</td>\n",
       "      <td>8/10/70</td>\n",
       "      <td>8/10/70</td>\n",
       "      <td>01/31/2002</td>\n",
       "      <td>PHILADELPHIA COLLEGE OF OSTEOP</td>\n",
       "      <td>DO</td>\n",
       "      <td>1.0</td>\n",
       "    </tr>\n",
       "    <tr>\n",
       "      <th>3</th>\n",
       "      <td>1901</td>\n",
       "      <td>1558</td>\n",
       "      <td>2610</td>\n",
       "      <td>FOSTER</td>\n",
       "      <td>LAWRENCE</td>\n",
       "      <td>A</td>\n",
       "      <td>NaN</td>\n",
       "      <td>16499 SNEFFELS CT</td>\n",
       "      <td>NaN</td>\n",
       "      <td>BROOMFIELD</td>\n",
       "      <td>...</td>\n",
       "      <td>NaN</td>\n",
       "      <td>OS</td>\n",
       "      <td>Osteopathic Physician</td>\n",
       "      <td>01/01/1969</td>\n",
       "      <td>8/10/70</td>\n",
       "      <td>8/10/70</td>\n",
       "      <td>03/31/2006</td>\n",
       "      <td>PHILADELPHIA COLLEGE OF OSTEOP</td>\n",
       "      <td>DO</td>\n",
       "      <td>1.0</td>\n",
       "    </tr>\n",
       "    <tr>\n",
       "      <th>4</th>\n",
       "      <td>1901</td>\n",
       "      <td>1559</td>\n",
       "      <td>2611</td>\n",
       "      <td>HIMES</td>\n",
       "      <td>GEORGE</td>\n",
       "      <td>E</td>\n",
       "      <td>NaN</td>\n",
       "      <td>3921 BEECHER RD</td>\n",
       "      <td>NaN</td>\n",
       "      <td>FLINT</td>\n",
       "      <td>...</td>\n",
       "      <td>NaN</td>\n",
       "      <td>OS</td>\n",
       "      <td>Osteopathic Physician</td>\n",
       "      <td>NaN</td>\n",
       "      <td>8/10/70</td>\n",
       "      <td>8/10/70</td>\n",
       "      <td>12/31/1989</td>\n",
       "      <td>NaN</td>\n",
       "      <td>NaN</td>\n",
       "      <td>0.0</td>\n",
       "    </tr>\n",
       "  </tbody>\n",
       "</table>\n",
       "<p>5 rows × 44 columns</p>\n",
       "</div>"
      ],
      "text/plain": [
       "   pro_cde  lic_id  lic_nbr   l_name    f_name m_name name_suffix  \\\n",
       "0     1901    1555     2607  RICHARD    RONALD      J         NaN   \n",
       "1     1901    1556     2608  HAMMOND      JOHN      E         NaN   \n",
       "2     1901    1557     2609    HEIST   KENNETH      P         NaN   \n",
       "3     1901    1558     2610   FOSTER  LAWRENCE      A         NaN   \n",
       "4     1901    1559     2611    HIMES    GEORGE      E         NaN   \n",
       "\n",
       "       ml_addr_line1 ml_addr_line2  ml_addr_city         ...           \\\n",
       "0  991 WYLIE RD #168           NaN      MARIETTA         ...            \n",
       "1    3252 NEWGATE CT           NaN        DUBLIN         ...            \n",
       "2     1 A REGULUS DR           NaN  TURNERSVILLE         ...            \n",
       "3  16499 SNEFFELS CT           NaN    BROOMFIELD         ...            \n",
       "4    3921 BEECHER RD           NaN         FLINT         ...            \n",
       "\n",
       "  lic_actv_sta_desc rank_cde              rank_desc yr_began_practice  \\\n",
       "0               NaN       OS  Osteopathic Physician               NaN   \n",
       "1               NaN       OS  Osteopathic Physician               NaN   \n",
       "2               NaN       OS  Osteopathic Physician               NaN   \n",
       "3               NaN       OS  Osteopathic Physician        01/01/1969   \n",
       "4               NaN       OS  Osteopathic Physician               NaN   \n",
       "\n",
       "  rank_efct_dte orig_dte    expr_dte                        inst_nme  \\\n",
       "0       8/10/70  8/10/70  12/31/1987                             NaN   \n",
       "1       8/10/70  8/10/70  12/31/1989                             NaN   \n",
       "2       8/10/70  8/10/70  01/31/2002  PHILADELPHIA COLLEGE OF OSTEOP   \n",
       "3       8/10/70  8/10/70  03/31/2006  PHILADELPHIA COLLEGE OF OSTEOP   \n",
       "4       8/10/70  8/10/70  12/31/1989                             NaN   \n",
       "\n",
       "   deg_cert_earn_cde specialty_cert_count  \n",
       "0                NaN                  0.0  \n",
       "1                NaN                  0.0  \n",
       "2                 DO                  1.0  \n",
       "3                 DO                  1.0  \n",
       "4                NaN                  0.0  \n",
       "\n",
       "[5 rows x 44 columns]"
      ]
     },
     "execution_count": 98,
     "metadata": {},
     "output_type": "execute_result"
    }
   ],
   "source": [
    "dd2"
   ]
  },
  {
   "cell_type": "markdown",
   "metadata": {},
   "source": [
    "# Dataset 3 faculty appt"
   ]
  },
  {
   "cell_type": "code",
   "execution_count": 88,
   "metadata": {
    "collapsed": true
   },
   "outputs": [],
   "source": [
    "#faculty appt\n",
    "d3 = pd.read_csv('Tp_faculty_appt.csv')"
   ]
  },
  {
   "cell_type": "code",
   "execution_count": 89,
   "metadata": {
    "collapsed": false
   },
   "outputs": [
    {
     "data": {
      "text/html": [
       "<div>\n",
       "<table border=\"1\" class=\"dataframe\">\n",
       "  <thead>\n",
       "    <tr style=\"text-align: right;\">\n",
       "      <th></th>\n",
       "      <th>ID</th>\n",
       "      <th>pro_cde</th>\n",
       "      <th>lic_id</th>\n",
       "      <th>rec_id</th>\n",
       "      <th>faculty_title</th>\n",
       "      <th>city</th>\n",
       "      <th>fclty_apt_inst</th>\n",
       "      <th>state</th>\n",
       "    </tr>\n",
       "  </thead>\n",
       "  <tbody>\n",
       "    <tr>\n",
       "      <th>0</th>\n",
       "      <td>1</td>\n",
       "      <td>1501</td>\n",
       "      <td>129553</td>\n",
       "      <td>94736039</td>\n",
       "      <td>CLINICAL ASSOCIATE PROFESSOR IN MEDICINE AND PM&amp;R</td>\n",
       "      <td>PHILADELPHIA</td>\n",
       "      <td>THOMAS JEFFERSON UNIVERSITY</td>\n",
       "      <td>PA</td>\n",
       "    </tr>\n",
       "    <tr>\n",
       "      <th>1</th>\n",
       "      <td>2</td>\n",
       "      <td>1501</td>\n",
       "      <td>129550</td>\n",
       "      <td>94735931</td>\n",
       "      <td>CLINICAL PROFESSOR OF FAMILY MEDICINE</td>\n",
       "      <td>EAST LANSING</td>\n",
       "      <td>MICHIGAN STATE UNIVERSITY COLLEGE OF HUM</td>\n",
       "      <td>MI</td>\n",
       "    </tr>\n",
       "    <tr>\n",
       "      <th>2</th>\n",
       "      <td>3</td>\n",
       "      <td>1501</td>\n",
       "      <td>111351</td>\n",
       "      <td>94716730</td>\n",
       "      <td>ASSISTANT POFESSOR</td>\n",
       "      <td>PONCE</td>\n",
       "      <td>PONCE SCHOOL OF MEDICINE</td>\n",
       "      <td>PR</td>\n",
       "    </tr>\n",
       "    <tr>\n",
       "      <th>3</th>\n",
       "      <td>4</td>\n",
       "      <td>1501</td>\n",
       "      <td>129507</td>\n",
       "      <td>94698772</td>\n",
       "      <td>SYNY BUFFALO</td>\n",
       "      <td>NaN</td>\n",
       "      <td>NaN</td>\n",
       "      <td>NaN</td>\n",
       "    </tr>\n",
       "    <tr>\n",
       "      <th>4</th>\n",
       "      <td>5</td>\n",
       "      <td>1501</td>\n",
       "      <td>129540</td>\n",
       "      <td>94701153</td>\n",
       "      <td>ASSISTANT PROFESSOR OF ANESTHESIOLOGY</td>\n",
       "      <td>BRONX</td>\n",
       "      <td>ALBERT EINSTEIN COLLEGE OF MEDICINE OF Y</td>\n",
       "      <td>NY</td>\n",
       "    </tr>\n",
       "  </tbody>\n",
       "</table>\n",
       "</div>"
      ],
      "text/plain": [
       "   ID  pro_cde  lic_id    rec_id  \\\n",
       "0   1     1501  129553  94736039   \n",
       "1   2     1501  129550  94735931   \n",
       "2   3     1501  111351  94716730   \n",
       "3   4     1501  129507  94698772   \n",
       "4   5     1501  129540  94701153   \n",
       "\n",
       "                                       faculty_title          city  \\\n",
       "0  CLINICAL ASSOCIATE PROFESSOR IN MEDICINE AND PM&R  PHILADELPHIA   \n",
       "1              CLINICAL PROFESSOR OF FAMILY MEDICINE  EAST LANSING   \n",
       "2                                 ASSISTANT POFESSOR         PONCE   \n",
       "3                                       SYNY BUFFALO           NaN   \n",
       "4              ASSISTANT PROFESSOR OF ANESTHESIOLOGY         BRONX   \n",
       "\n",
       "                             fclty_apt_inst state  \n",
       "0               THOMAS JEFFERSON UNIVERSITY    PA  \n",
       "1  MICHIGAN STATE UNIVERSITY COLLEGE OF HUM    MI  \n",
       "2                  PONCE SCHOOL OF MEDICINE    PR  \n",
       "3                                       NaN   NaN  \n",
       "4  ALBERT EINSTEIN COLLEGE OF MEDICINE OF Y    NY  "
      ]
     },
     "execution_count": 89,
     "metadata": {},
     "output_type": "execute_result"
    }
   ],
   "source": [
    "d3.head(5)"
   ]
  },
  {
   "cell_type": "code",
   "execution_count": 90,
   "metadata": {
    "collapsed": false
   },
   "outputs": [
    {
     "data": {
      "text/plain": [
       "(33996, 8)"
      ]
     },
     "execution_count": 90,
     "metadata": {},
     "output_type": "execute_result"
    }
   ],
   "source": [
    "d3.shape"
   ]
  },
  {
   "cell_type": "code",
   "execution_count": 101,
   "metadata": {
    "collapsed": true
   },
   "outputs": [],
   "source": [
    "l1, l2, l3 = [], [], []\n",
    "l1, l2, l3 = countfreq(d3)"
   ]
  },
  {
   "cell_type": "code",
   "execution_count": 103,
   "metadata": {
    "collapsed": true
   },
   "outputs": [],
   "source": [
    "d3a = pd.DataFrame({'pro_cde':l1,'lic_id':l2,'fclty_apt_count':l3})"
   ]
  },
  {
   "cell_type": "code",
   "execution_count": 105,
   "metadata": {
    "collapsed": false
   },
   "outputs": [
    {
     "data": {
      "text/html": [
       "<div>\n",
       "<table border=\"1\" class=\"dataframe\">\n",
       "  <thead>\n",
       "    <tr style=\"text-align: right;\">\n",
       "      <th></th>\n",
       "      <th>fclty_apt_count</th>\n",
       "      <th>lic_id</th>\n",
       "      <th>pro_cde</th>\n",
       "    </tr>\n",
       "  </thead>\n",
       "  <tbody>\n",
       "    <tr>\n",
       "      <th>27766</th>\n",
       "      <td>1</td>\n",
       "      <td>161668</td>\n",
       "      <td>1701</td>\n",
       "    </tr>\n",
       "    <tr>\n",
       "      <th>27767</th>\n",
       "      <td>1</td>\n",
       "      <td>126367</td>\n",
       "      <td>1501</td>\n",
       "    </tr>\n",
       "    <tr>\n",
       "      <th>27768</th>\n",
       "      <td>1</td>\n",
       "      <td>91307</td>\n",
       "      <td>1501</td>\n",
       "    </tr>\n",
       "    <tr>\n",
       "      <th>27769</th>\n",
       "      <td>2</td>\n",
       "      <td>74689</td>\n",
       "      <td>1501</td>\n",
       "    </tr>\n",
       "    <tr>\n",
       "      <th>27770</th>\n",
       "      <td>1</td>\n",
       "      <td>65399</td>\n",
       "      <td>1501</td>\n",
       "    </tr>\n",
       "    <tr>\n",
       "      <th>27771</th>\n",
       "      <td>1</td>\n",
       "      <td>19692</td>\n",
       "      <td>1501</td>\n",
       "    </tr>\n",
       "    <tr>\n",
       "      <th>27772</th>\n",
       "      <td>2</td>\n",
       "      <td>88014</td>\n",
       "      <td>1501</td>\n",
       "    </tr>\n",
       "    <tr>\n",
       "      <th>27773</th>\n",
       "      <td>1</td>\n",
       "      <td>13753</td>\n",
       "      <td>1501</td>\n",
       "    </tr>\n",
       "    <tr>\n",
       "      <th>27774</th>\n",
       "      <td>1</td>\n",
       "      <td>424044</td>\n",
       "      <td>1701</td>\n",
       "    </tr>\n",
       "    <tr>\n",
       "      <th>27775</th>\n",
       "      <td>1</td>\n",
       "      <td>19451</td>\n",
       "      <td>1501</td>\n",
       "    </tr>\n",
       "  </tbody>\n",
       "</table>\n",
       "</div>"
      ],
      "text/plain": [
       "       fclty_apt_count  lic_id  pro_cde\n",
       "27766                1  161668     1701\n",
       "27767                1  126367     1501\n",
       "27768                1   91307     1501\n",
       "27769                2   74689     1501\n",
       "27770                1   65399     1501\n",
       "27771                1   19692     1501\n",
       "27772                2   88014     1501\n",
       "27773                1   13753     1501\n",
       "27774                1  424044     1701\n",
       "27775                1   19451     1501"
      ]
     },
     "execution_count": 105,
     "metadata": {},
     "output_type": "execute_result"
    }
   ],
   "source": [
    "d3a.tail(10)"
   ]
  },
  {
   "cell_type": "code",
   "execution_count": 106,
   "metadata": {
    "collapsed": true
   },
   "outputs": [],
   "source": [
    "dd3 = pd.merge(dd2,d3a,how='left',on = ['lic_id','pro_cde'])"
   ]
  },
  {
   "cell_type": "code",
   "execution_count": 107,
   "metadata": {
    "collapsed": false
   },
   "outputs": [
    {
     "data": {
      "text/plain": [
       "(204776, 45)"
      ]
     },
     "execution_count": 107,
     "metadata": {},
     "output_type": "execute_result"
    }
   ],
   "source": [
    "dd3.shape"
   ]
  },
  {
   "cell_type": "code",
   "execution_count": 108,
   "metadata": {
    "collapsed": true
   },
   "outputs": [],
   "source": [
    "dd3['fclty_apt_count'].fillna(0, inplace=True)"
   ]
  },
  {
   "cell_type": "markdown",
   "metadata": {},
   "source": [
    "# Dataset 4 Tp_financial_resp"
   ]
  },
  {
   "cell_type": "code",
   "execution_count": 111,
   "metadata": {
    "collapsed": true
   },
   "outputs": [],
   "source": [
    "# Tp_financial_resp\n",
    "d4 = pd.read_csv('Tp_financial_resp.csv')"
   ]
  },
  {
   "cell_type": "code",
   "execution_count": 112,
   "metadata": {
    "collapsed": false
   },
   "outputs": [
    {
     "data": {
      "text/plain": [
       "(154005, 8)"
      ]
     },
     "execution_count": 112,
     "metadata": {},
     "output_type": "execute_result"
    }
   ],
   "source": [
    "d4.shape"
   ]
  },
  {
   "cell_type": "code",
   "execution_count": 119,
   "metadata": {
    "collapsed": false
   },
   "outputs": [
    {
     "data": {
      "text/plain": [
       "(6, 4.0    29394\n",
       " 5.0    13287\n",
       " 1.0    10525\n",
       " 6.0     7007\n",
       " 3.0     3787\n",
       " 2.0     1004\n",
       " Name: financial_exempt, dtype: int64)"
      ]
     },
     "execution_count": 119,
     "metadata": {},
     "output_type": "execute_result"
    }
   ],
   "source": [
    "f(d4,'financial_exempt')"
   ]
  },
  {
   "cell_type": "code",
   "execution_count": 120,
   "metadata": {
    "collapsed": false
   },
   "outputs": [],
   "source": [
    "d4 = d4.drop(['insured_10_yr','ID'],axis=1)"
   ]
  },
  {
   "cell_type": "code",
   "execution_count": 122,
   "metadata": {
    "collapsed": false
   },
   "outputs": [],
   "source": [
    "dd4 = pd.merge(dd3,d4,how='left',on = ['lic_id','pro_cde'])"
   ]
  },
  {
   "cell_type": "code",
   "execution_count": 123,
   "metadata": {
    "collapsed": false
   },
   "outputs": [
    {
     "data": {
      "text/plain": [
       "(204776, 49)"
      ]
     },
     "execution_count": 123,
     "metadata": {},
     "output_type": "execute_result"
    }
   ],
   "source": [
    "dd4.shape"
   ]
  },
  {
   "cell_type": "code",
   "execution_count": 124,
   "metadata": {
    "collapsed": false
   },
   "outputs": [
    {
     "data": {
      "text/html": [
       "<div>\n",
       "<table border=\"1\" class=\"dataframe\">\n",
       "  <thead>\n",
       "    <tr style=\"text-align: right;\">\n",
       "      <th></th>\n",
       "      <th>pro_cde</th>\n",
       "      <th>lic_id</th>\n",
       "      <th>lic_nbr</th>\n",
       "      <th>l_name</th>\n",
       "      <th>f_name</th>\n",
       "      <th>m_name</th>\n",
       "      <th>name_suffix</th>\n",
       "      <th>ml_addr_line1</th>\n",
       "      <th>ml_addr_line2</th>\n",
       "      <th>ml_addr_city</th>\n",
       "      <th>...</th>\n",
       "      <th>orig_dte</th>\n",
       "      <th>expr_dte</th>\n",
       "      <th>inst_nme</th>\n",
       "      <th>deg_cert_earn_cde</th>\n",
       "      <th>specialty_cert_count</th>\n",
       "      <th>fclty_apt_count</th>\n",
       "      <th>financial_resp</th>\n",
       "      <th>financial_exempt</th>\n",
       "      <th>liability_claim</th>\n",
       "      <th>insured</th>\n",
       "    </tr>\n",
       "  </thead>\n",
       "  <tbody>\n",
       "    <tr>\n",
       "      <th>0</th>\n",
       "      <td>1901</td>\n",
       "      <td>1555</td>\n",
       "      <td>2607</td>\n",
       "      <td>RICHARD</td>\n",
       "      <td>RONALD</td>\n",
       "      <td>J</td>\n",
       "      <td>NaN</td>\n",
       "      <td>991 WYLIE RD #168</td>\n",
       "      <td>NaN</td>\n",
       "      <td>MARIETTA</td>\n",
       "      <td>...</td>\n",
       "      <td>8/10/70</td>\n",
       "      <td>12/31/1987</td>\n",
       "      <td>NaN</td>\n",
       "      <td>NaN</td>\n",
       "      <td>0.0</td>\n",
       "      <td>0.0</td>\n",
       "      <td>NaN</td>\n",
       "      <td>NaN</td>\n",
       "      <td>NaN</td>\n",
       "      <td>NaN</td>\n",
       "    </tr>\n",
       "    <tr>\n",
       "      <th>1</th>\n",
       "      <td>1901</td>\n",
       "      <td>1556</td>\n",
       "      <td>2608</td>\n",
       "      <td>HAMMOND</td>\n",
       "      <td>JOHN</td>\n",
       "      <td>E</td>\n",
       "      <td>NaN</td>\n",
       "      <td>3252 NEWGATE CT</td>\n",
       "      <td>NaN</td>\n",
       "      <td>DUBLIN</td>\n",
       "      <td>...</td>\n",
       "      <td>8/10/70</td>\n",
       "      <td>12/31/1989</td>\n",
       "      <td>NaN</td>\n",
       "      <td>NaN</td>\n",
       "      <td>0.0</td>\n",
       "      <td>0.0</td>\n",
       "      <td>NaN</td>\n",
       "      <td>NaN</td>\n",
       "      <td>NaN</td>\n",
       "      <td>NaN</td>\n",
       "    </tr>\n",
       "    <tr>\n",
       "      <th>2</th>\n",
       "      <td>1901</td>\n",
       "      <td>1557</td>\n",
       "      <td>2609</td>\n",
       "      <td>HEIST</td>\n",
       "      <td>KENNETH</td>\n",
       "      <td>P</td>\n",
       "      <td>NaN</td>\n",
       "      <td>1 A REGULUS DR</td>\n",
       "      <td>NaN</td>\n",
       "      <td>TURNERSVILLE</td>\n",
       "      <td>...</td>\n",
       "      <td>8/10/70</td>\n",
       "      <td>01/31/2002</td>\n",
       "      <td>PHILADELPHIA COLLEGE OF OSTEOP</td>\n",
       "      <td>DO</td>\n",
       "      <td>1.0</td>\n",
       "      <td>0.0</td>\n",
       "      <td>2.0</td>\n",
       "      <td>NaN</td>\n",
       "      <td>Y</td>\n",
       "      <td>Y</td>\n",
       "    </tr>\n",
       "    <tr>\n",
       "      <th>3</th>\n",
       "      <td>1901</td>\n",
       "      <td>1558</td>\n",
       "      <td>2610</td>\n",
       "      <td>FOSTER</td>\n",
       "      <td>LAWRENCE</td>\n",
       "      <td>A</td>\n",
       "      <td>NaN</td>\n",
       "      <td>16499 SNEFFELS CT</td>\n",
       "      <td>NaN</td>\n",
       "      <td>BROOMFIELD</td>\n",
       "      <td>...</td>\n",
       "      <td>8/10/70</td>\n",
       "      <td>03/31/2006</td>\n",
       "      <td>PHILADELPHIA COLLEGE OF OSTEOP</td>\n",
       "      <td>DO</td>\n",
       "      <td>1.0</td>\n",
       "      <td>1.0</td>\n",
       "      <td>6.0</td>\n",
       "      <td>4.0</td>\n",
       "      <td>NaN</td>\n",
       "      <td>Y</td>\n",
       "    </tr>\n",
       "    <tr>\n",
       "      <th>4</th>\n",
       "      <td>1901</td>\n",
       "      <td>1559</td>\n",
       "      <td>2611</td>\n",
       "      <td>HIMES</td>\n",
       "      <td>GEORGE</td>\n",
       "      <td>E</td>\n",
       "      <td>NaN</td>\n",
       "      <td>3921 BEECHER RD</td>\n",
       "      <td>NaN</td>\n",
       "      <td>FLINT</td>\n",
       "      <td>...</td>\n",
       "      <td>8/10/70</td>\n",
       "      <td>12/31/1989</td>\n",
       "      <td>NaN</td>\n",
       "      <td>NaN</td>\n",
       "      <td>0.0</td>\n",
       "      <td>0.0</td>\n",
       "      <td>NaN</td>\n",
       "      <td>NaN</td>\n",
       "      <td>NaN</td>\n",
       "      <td>NaN</td>\n",
       "    </tr>\n",
       "  </tbody>\n",
       "</table>\n",
       "<p>5 rows × 49 columns</p>\n",
       "</div>"
      ],
      "text/plain": [
       "   pro_cde  lic_id  lic_nbr   l_name    f_name m_name name_suffix  \\\n",
       "0     1901    1555     2607  RICHARD    RONALD      J         NaN   \n",
       "1     1901    1556     2608  HAMMOND      JOHN      E         NaN   \n",
       "2     1901    1557     2609    HEIST   KENNETH      P         NaN   \n",
       "3     1901    1558     2610   FOSTER  LAWRENCE      A         NaN   \n",
       "4     1901    1559     2611    HIMES    GEORGE      E         NaN   \n",
       "\n",
       "       ml_addr_line1 ml_addr_line2  ml_addr_city   ...   orig_dte    expr_dte  \\\n",
       "0  991 WYLIE RD #168           NaN      MARIETTA   ...    8/10/70  12/31/1987   \n",
       "1    3252 NEWGATE CT           NaN        DUBLIN   ...    8/10/70  12/31/1989   \n",
       "2     1 A REGULUS DR           NaN  TURNERSVILLE   ...    8/10/70  01/31/2002   \n",
       "3  16499 SNEFFELS CT           NaN    BROOMFIELD   ...    8/10/70  03/31/2006   \n",
       "4    3921 BEECHER RD           NaN         FLINT   ...    8/10/70  12/31/1989   \n",
       "\n",
       "                         inst_nme deg_cert_earn_cde specialty_cert_count  \\\n",
       "0                             NaN               NaN                  0.0   \n",
       "1                             NaN               NaN                  0.0   \n",
       "2  PHILADELPHIA COLLEGE OF OSTEOP                DO                  1.0   \n",
       "3  PHILADELPHIA COLLEGE OF OSTEOP                DO                  1.0   \n",
       "4                             NaN               NaN                  0.0   \n",
       "\n",
       "  fclty_apt_count financial_resp financial_exempt  liability_claim insured  \n",
       "0             0.0            NaN              NaN              NaN     NaN  \n",
       "1             0.0            NaN              NaN              NaN     NaN  \n",
       "2             0.0            2.0              NaN                Y       Y  \n",
       "3             1.0            6.0              4.0              NaN       Y  \n",
       "4             0.0            NaN              NaN              NaN     NaN  \n",
       "\n",
       "[5 rows x 49 columns]"
      ]
     },
     "execution_count": 124,
     "metadata": {},
     "output_type": "execute_result"
    }
   ],
   "source": [
    "dd4.head()"
   ]
  },
  {
   "cell_type": "markdown",
   "metadata": {},
   "source": [
    "# Dataset 5 Tp_other_health_dg"
   ]
  },
  {
   "cell_type": "code",
   "execution_count": 125,
   "metadata": {
    "collapsed": false
   },
   "outputs": [
    {
     "data": {
      "text/plain": [
       "(35979, 10)"
      ]
     },
     "execution_count": 125,
     "metadata": {},
     "output_type": "execute_result"
    }
   ],
   "source": [
    "d5 = pd.read_csv('Tp_other_health_dg.csv')\n",
    "d5.shape"
   ]
  },
  {
   "cell_type": "code",
   "execution_count": 126,
   "metadata": {
    "collapsed": false
   },
   "outputs": [
    {
     "data": {
      "text/html": [
       "<div>\n",
       "<table border=\"1\" class=\"dataframe\">\n",
       "  <thead>\n",
       "    <tr style=\"text-align: right;\">\n",
       "      <th></th>\n",
       "      <th>ID</th>\n",
       "      <th>pro_cde</th>\n",
       "      <th>lic_id</th>\n",
       "      <th>rec_id</th>\n",
       "      <th>school_name</th>\n",
       "      <th>city</th>\n",
       "      <th>state/country</th>\n",
       "      <th>attended_from</th>\n",
       "      <th>attended_to</th>\n",
       "      <th>degree_title</th>\n",
       "    </tr>\n",
       "  </thead>\n",
       "  <tbody>\n",
       "    <tr>\n",
       "      <th>0</th>\n",
       "      <td>1</td>\n",
       "      <td>501</td>\n",
       "      <td>5109</td>\n",
       "      <td>36520780</td>\n",
       "      <td>EMORY UNIVERSITY SCHOOL OF PUBLIC HEALTH</td>\n",
       "      <td>ATLANTA</td>\n",
       "      <td>GEORGIA</td>\n",
       "      <td>08/01/2006</td>\n",
       "      <td>12/12/2008 0:00:00</td>\n",
       "      <td>MMSP</td>\n",
       "    </tr>\n",
       "    <tr>\n",
       "      <th>1</th>\n",
       "      <td>2</td>\n",
       "      <td>501</td>\n",
       "      <td>11205</td>\n",
       "      <td>36653781</td>\n",
       "      <td>SALISBURY UNIVERSITY</td>\n",
       "      <td>SALISBURY</td>\n",
       "      <td>MARYLAND</td>\n",
       "      <td>NaN</td>\n",
       "      <td>5/22/2003 0:00:00</td>\n",
       "      <td>BOS</td>\n",
       "    </tr>\n",
       "    <tr>\n",
       "      <th>2</th>\n",
       "      <td>3</td>\n",
       "      <td>501</td>\n",
       "      <td>11209</td>\n",
       "      <td>36735743</td>\n",
       "      <td>INDIANA UNIVERSITY</td>\n",
       "      <td>BLOOMINGTON</td>\n",
       "      <td>INDIANA</td>\n",
       "      <td>NaN</td>\n",
       "      <td>12/15/1999 0:00:00</td>\n",
       "      <td>BOS</td>\n",
       "    </tr>\n",
       "    <tr>\n",
       "      <th>3</th>\n",
       "      <td>4</td>\n",
       "      <td>501</td>\n",
       "      <td>11215</td>\n",
       "      <td>36936091</td>\n",
       "      <td>NORTHERN MICHIGAN UNIVERSITY</td>\n",
       "      <td>MARQUETTE</td>\n",
       "      <td>MICHIGAN</td>\n",
       "      <td>NaN</td>\n",
       "      <td>8/15/2006 0:00:00</td>\n",
       "      <td>BOS</td>\n",
       "    </tr>\n",
       "    <tr>\n",
       "      <th>4</th>\n",
       "      <td>5</td>\n",
       "      <td>501</td>\n",
       "      <td>11212</td>\n",
       "      <td>36935819</td>\n",
       "      <td>UNIVERSITY OF MARYLAND</td>\n",
       "      <td>COLLEGE PARK</td>\n",
       "      <td>MARYLAND</td>\n",
       "      <td>NaN</td>\n",
       "      <td>12/20/1996 0:00:00</td>\n",
       "      <td>BOS</td>\n",
       "    </tr>\n",
       "  </tbody>\n",
       "</table>\n",
       "</div>"
      ],
      "text/plain": [
       "   ID  pro_cde  lic_id    rec_id                               school_name  \\\n",
       "0   1      501    5109  36520780  EMORY UNIVERSITY SCHOOL OF PUBLIC HEALTH   \n",
       "1   2      501   11205  36653781                      SALISBURY UNIVERSITY   \n",
       "2   3      501   11209  36735743                        INDIANA UNIVERSITY   \n",
       "3   4      501   11215  36936091              NORTHERN MICHIGAN UNIVERSITY   \n",
       "4   5      501   11212  36935819                    UNIVERSITY OF MARYLAND   \n",
       "\n",
       "           city state/country attended_from         attended_to degree_title  \n",
       "0       ATLANTA       GEORGIA    08/01/2006  12/12/2008 0:00:00         MMSP  \n",
       "1     SALISBURY      MARYLAND           NaN   5/22/2003 0:00:00          BOS  \n",
       "2   BLOOMINGTON       INDIANA           NaN  12/15/1999 0:00:00          BOS  \n",
       "3     MARQUETTE      MICHIGAN           NaN   8/15/2006 0:00:00          BOS  \n",
       "4  COLLEGE PARK      MARYLAND           NaN  12/20/1996 0:00:00          BOS  "
      ]
     },
     "execution_count": 126,
     "metadata": {},
     "output_type": "execute_result"
    }
   ],
   "source": [
    "d5.head(5)"
   ]
  },
  {
   "cell_type": "code",
   "execution_count": 128,
   "metadata": {
    "collapsed": true
   },
   "outputs": [],
   "source": [
    "l1, l2, l3 = [], [], []\n",
    "l1, l2, l3 = countfreq(d5)"
   ]
  },
  {
   "cell_type": "code",
   "execution_count": 130,
   "metadata": {
    "collapsed": true
   },
   "outputs": [],
   "source": [
    "d5a = pd.DataFrame({'pro_cde':l1,'lic_id':l2,'other_health_dg_count':l3})"
   ]
  },
  {
   "cell_type": "code",
   "execution_count": 136,
   "metadata": {
    "collapsed": false
   },
   "outputs": [
    {
     "data": {
      "text/plain": [
       "1    28027\n",
       "2     3191\n",
       "3      388\n",
       "4       69\n",
       "5       13\n",
       "6        6\n",
       "7        3\n",
       "8        1\n",
       "Name: other_health_dg_count, dtype: int64"
      ]
     },
     "execution_count": 136,
     "metadata": {},
     "output_type": "execute_result"
    }
   ],
   "source": [
    "d5a['other_health_dg_count'].value_counts()"
   ]
  },
  {
   "cell_type": "code",
   "execution_count": 131,
   "metadata": {
    "collapsed": true
   },
   "outputs": [],
   "source": [
    "dd5 = pd.merge(dd4,d5a,how='left',on = ['lic_id','pro_cde'])"
   ]
  },
  {
   "cell_type": "code",
   "execution_count": 132,
   "metadata": {
    "collapsed": false
   },
   "outputs": [
    {
     "data": {
      "text/plain": [
       "(204776, 50)"
      ]
     },
     "execution_count": 132,
     "metadata": {},
     "output_type": "execute_result"
    }
   ],
   "source": [
    "dd5.shape"
   ]
  },
  {
   "cell_type": "code",
   "execution_count": 133,
   "metadata": {
    "collapsed": true
   },
   "outputs": [],
   "source": [
    "dd5['other_health_dg_count'].fillna(0, inplace=True)"
   ]
  },
  {
   "cell_type": "code",
   "execution_count": 138,
   "metadata": {
    "collapsed": false
   },
   "outputs": [
    {
     "data": {
      "text/plain": [
       "0.0    169111\n",
       "1.0     31303\n",
       "2.0      3821\n",
       "3.0       433\n",
       "4.0        86\n",
       "5.0        12\n",
       "6.0         7\n",
       "7.0         3\n",
       "Name: other_health_dg_count, dtype: int64"
      ]
     },
     "execution_count": 138,
     "metadata": {},
     "output_type": "execute_result"
    }
   ],
   "source": [
    "dd5['other_health_dg_count'].value_counts()"
   ]
  },
  {
   "cell_type": "markdown",
   "metadata": {},
   "source": [
    "# Dataset 6 Tp_prof_post_grad"
   ]
  },
  {
   "cell_type": "code",
   "execution_count": 143,
   "metadata": {
    "collapsed": true
   },
   "outputs": [],
   "source": [
    "d6 = pd.read_csv('Tp_prof_post_grad.csv')"
   ]
  },
  {
   "cell_type": "code",
   "execution_count": 144,
   "metadata": {
    "collapsed": false
   },
   "outputs": [
    {
     "data": {
      "text/plain": [
       "(266275, 12)"
      ]
     },
     "execution_count": 144,
     "metadata": {},
     "output_type": "execute_result"
    }
   ],
   "source": [
    "d6.shape"
   ]
  },
  {
   "cell_type": "code",
   "execution_count": 145,
   "metadata": {
    "collapsed": false
   },
   "outputs": [
    {
     "data": {
      "text/html": [
       "<div>\n",
       "<table border=\"1\" class=\"dataframe\">\n",
       "  <thead>\n",
       "    <tr style=\"text-align: right;\">\n",
       "      <th></th>\n",
       "      <th>ID</th>\n",
       "      <th>pro_cde</th>\n",
       "      <th>lic_id</th>\n",
       "      <th>rec_id</th>\n",
       "      <th>program_spclty_ar</th>\n",
       "      <th>city</th>\n",
       "      <th>state/country</th>\n",
       "      <th>attend_from</th>\n",
       "      <th>attend_to</th>\n",
       "      <th>institute_name</th>\n",
       "      <th>program_type</th>\n",
       "      <th>other_spclty_ar</th>\n",
       "    </tr>\n",
       "  </thead>\n",
       "  <tbody>\n",
       "    <tr>\n",
       "      <th>0</th>\n",
       "      <td>1</td>\n",
       "      <td>501</td>\n",
       "      <td>3781</td>\n",
       "      <td>28571232</td>\n",
       "      <td>OTHER</td>\n",
       "      <td>PASADENA</td>\n",
       "      <td>TX</td>\n",
       "      <td>1/6/2002 0:00:00</td>\n",
       "      <td>6/7/2002 0:00:00</td>\n",
       "      <td>TEXAS CHIROPRACTIC COLLEGE</td>\n",
       "      <td>OTHER PROGRAM</td>\n",
       "      <td>QUALIFIED EXPERT WITNESS</td>\n",
       "    </tr>\n",
       "    <tr>\n",
       "      <th>1</th>\n",
       "      <td>2</td>\n",
       "      <td>501</td>\n",
       "      <td>5376</td>\n",
       "      <td>29149540</td>\n",
       "      <td>N - NEUROLOGY</td>\n",
       "      <td>ATLANTA</td>\n",
       "      <td>GA</td>\n",
       "      <td>1/11/2002 0:00:00</td>\n",
       "      <td>1/15/2004 0:00:00</td>\n",
       "      <td>CARRICK INSTITUTE</td>\n",
       "      <td>OTHER PROGRAM</td>\n",
       "      <td>CHIROPRACTIC NEUROLOGY</td>\n",
       "    </tr>\n",
       "    <tr>\n",
       "      <th>2</th>\n",
       "      <td>3</td>\n",
       "      <td>501</td>\n",
       "      <td>3846</td>\n",
       "      <td>29149539</td>\n",
       "      <td>OTHER</td>\n",
       "      <td>BOCA RATON</td>\n",
       "      <td>FL</td>\n",
       "      <td>3/21/2007 0:00:00</td>\n",
       "      <td>4/21/2007 0:00:00</td>\n",
       "      <td>MANIPULATION UNDER ANESTHESIA</td>\n",
       "      <td>OTHER PROGRAM</td>\n",
       "      <td>NaN</td>\n",
       "    </tr>\n",
       "    <tr>\n",
       "      <th>3</th>\n",
       "      <td>4</td>\n",
       "      <td>501</td>\n",
       "      <td>5484</td>\n",
       "      <td>29133167</td>\n",
       "      <td>ORTHOPEDICS</td>\n",
       "      <td>LOMBARD</td>\n",
       "      <td>US</td>\n",
       "      <td>9/1/1995 0:00:00</td>\n",
       "      <td>10/3/1999 0:00:00</td>\n",
       "      <td>CHIROPRACTIC ORTHOPEDICS</td>\n",
       "      <td>OTHER PROGRAM</td>\n",
       "      <td>NaN</td>\n",
       "    </tr>\n",
       "    <tr>\n",
       "      <th>4</th>\n",
       "      <td>5</td>\n",
       "      <td>501</td>\n",
       "      <td>1299</td>\n",
       "      <td>29053111</td>\n",
       "      <td>CHIROPRACTIC INTERNSHIP/RESIDENCY</td>\n",
       "      <td>JACKSONVILLE</td>\n",
       "      <td>FL</td>\n",
       "      <td>8/23/1987 0:00:00</td>\n",
       "      <td>3/3/1991 0:00:00</td>\n",
       "      <td>CHIROPRACTIC ORTHOPEDIC DIPLOMAT PROGRAM</td>\n",
       "      <td>OTHER PROGRAM</td>\n",
       "      <td>NaN</td>\n",
       "    </tr>\n",
       "    <tr>\n",
       "      <th>5</th>\n",
       "      <td>6</td>\n",
       "      <td>501</td>\n",
       "      <td>8600</td>\n",
       "      <td>29255182</td>\n",
       "      <td>OTHER</td>\n",
       "      <td>FORT MYERS</td>\n",
       "      <td>FL</td>\n",
       "      <td>11/19/2007 0:00:00</td>\n",
       "      <td>11/21/2007 0:00:00</td>\n",
       "      <td>MANUPULATION UNDER ANESTHESIA</td>\n",
       "      <td>OTHER PROGRAM</td>\n",
       "      <td>NaN</td>\n",
       "    </tr>\n",
       "    <tr>\n",
       "      <th>6</th>\n",
       "      <td>7</td>\n",
       "      <td>501</td>\n",
       "      <td>5904</td>\n",
       "      <td>29231642</td>\n",
       "      <td>IM - SPORTS MEDICINE</td>\n",
       "      <td>MINNEAPOLIS</td>\n",
       "      <td>MN</td>\n",
       "      <td>9/1/1999 0:00:00</td>\n",
       "      <td>9/1/2000 0:00:00</td>\n",
       "      <td>CERTIFIED CHIROPRACTIC SPORTS PHYSICIAN</td>\n",
       "      <td>OTHER PROGRAM</td>\n",
       "      <td>NaN</td>\n",
       "    </tr>\n",
       "    <tr>\n",
       "      <th>7</th>\n",
       "      <td>8</td>\n",
       "      <td>501</td>\n",
       "      <td>1549</td>\n",
       "      <td>29284759</td>\n",
       "      <td>P - ADDICTION PSYCHIATRY</td>\n",
       "      <td>JERUSALEM</td>\n",
       "      <td>*IL</td>\n",
       "      <td>1/1/2004 0:00:00</td>\n",
       "      <td>1/2/2004 0:00:00</td>\n",
       "      <td>ISRAEL CERTIFICATION BOARD OF ADDICTION PROFES...</td>\n",
       "      <td>OTHER PROGRAM</td>\n",
       "      <td>BOARD CERTIFIED--CASAP CREDENTIAL ADDICTION ME...</td>\n",
       "    </tr>\n",
       "    <tr>\n",
       "      <th>8</th>\n",
       "      <td>9</td>\n",
       "      <td>501</td>\n",
       "      <td>1549</td>\n",
       "      <td>29284758</td>\n",
       "      <td>OTHER</td>\n",
       "      <td>LOMBARD</td>\n",
       "      <td>IL</td>\n",
       "      <td>9/4/1973 0:00:00</td>\n",
       "      <td>4/19/1975 0:00:00</td>\n",
       "      <td>NATIONAL COLLEGE</td>\n",
       "      <td>OTHER PROGRAM</td>\n",
       "      <td>BS  DEGREE-HUMAN ANATOMY</td>\n",
       "    </tr>\n",
       "    <tr>\n",
       "      <th>9</th>\n",
       "      <td>10</td>\n",
       "      <td>501</td>\n",
       "      <td>1549</td>\n",
       "      <td>29284755</td>\n",
       "      <td>OTHER</td>\n",
       "      <td>BOCA RATON</td>\n",
       "      <td>FL</td>\n",
       "      <td>8/1/1970 0:00:00</td>\n",
       "      <td>8/1/1977 0:00:00</td>\n",
       "      <td>FLORIDA ATLANTIC UNIVERSITY</td>\n",
       "      <td>OTHER PROGRAM</td>\n",
       "      <td>BFA  DEGREE  FINE ARTS AND CHEMISTRY</td>\n",
       "    </tr>\n",
       "  </tbody>\n",
       "</table>\n",
       "</div>"
      ],
      "text/plain": [
       "   ID  pro_cde  lic_id    rec_id                  program_spclty_ar  \\\n",
       "0   1      501    3781  28571232                              OTHER   \n",
       "1   2      501    5376  29149540                      N - NEUROLOGY   \n",
       "2   3      501    3846  29149539                              OTHER   \n",
       "3   4      501    5484  29133167                        ORTHOPEDICS   \n",
       "4   5      501    1299  29053111  CHIROPRACTIC INTERNSHIP/RESIDENCY   \n",
       "5   6      501    8600  29255182                              OTHER   \n",
       "6   7      501    5904  29231642               IM - SPORTS MEDICINE   \n",
       "7   8      501    1549  29284759           P - ADDICTION PSYCHIATRY   \n",
       "8   9      501    1549  29284758                              OTHER   \n",
       "9  10      501    1549  29284755                              OTHER   \n",
       "\n",
       "           city state/country         attend_from           attend_to  \\\n",
       "0      PASADENA            TX    1/6/2002 0:00:00    6/7/2002 0:00:00   \n",
       "1       ATLANTA            GA   1/11/2002 0:00:00   1/15/2004 0:00:00   \n",
       "2    BOCA RATON            FL   3/21/2007 0:00:00   4/21/2007 0:00:00   \n",
       "3       LOMBARD            US    9/1/1995 0:00:00   10/3/1999 0:00:00   \n",
       "4  JACKSONVILLE            FL   8/23/1987 0:00:00    3/3/1991 0:00:00   \n",
       "5    FORT MYERS            FL  11/19/2007 0:00:00  11/21/2007 0:00:00   \n",
       "6   MINNEAPOLIS            MN    9/1/1999 0:00:00    9/1/2000 0:00:00   \n",
       "7     JERUSALEM           *IL    1/1/2004 0:00:00    1/2/2004 0:00:00   \n",
       "8       LOMBARD            IL    9/4/1973 0:00:00   4/19/1975 0:00:00   \n",
       "9    BOCA RATON            FL    8/1/1970 0:00:00    8/1/1977 0:00:00   \n",
       "\n",
       "                                      institute_name   program_type  \\\n",
       "0                         TEXAS CHIROPRACTIC COLLEGE  OTHER PROGRAM   \n",
       "1                                  CARRICK INSTITUTE  OTHER PROGRAM   \n",
       "2                      MANIPULATION UNDER ANESTHESIA  OTHER PROGRAM   \n",
       "3                           CHIROPRACTIC ORTHOPEDICS  OTHER PROGRAM   \n",
       "4           CHIROPRACTIC ORTHOPEDIC DIPLOMAT PROGRAM  OTHER PROGRAM   \n",
       "5                      MANUPULATION UNDER ANESTHESIA  OTHER PROGRAM   \n",
       "6            CERTIFIED CHIROPRACTIC SPORTS PHYSICIAN  OTHER PROGRAM   \n",
       "7  ISRAEL CERTIFICATION BOARD OF ADDICTION PROFES...  OTHER PROGRAM   \n",
       "8                                   NATIONAL COLLEGE  OTHER PROGRAM   \n",
       "9                        FLORIDA ATLANTIC UNIVERSITY  OTHER PROGRAM   \n",
       "\n",
       "                                     other_spclty_ar  \n",
       "0                           QUALIFIED EXPERT WITNESS  \n",
       "1                             CHIROPRACTIC NEUROLOGY  \n",
       "2                                                NaN  \n",
       "3                                                NaN  \n",
       "4                                                NaN  \n",
       "5                                                NaN  \n",
       "6                                                NaN  \n",
       "7  BOARD CERTIFIED--CASAP CREDENTIAL ADDICTION ME...  \n",
       "8                           BS  DEGREE-HUMAN ANATOMY  \n",
       "9               BFA  DEGREE  FINE ARTS AND CHEMISTRY  "
      ]
     },
     "execution_count": 145,
     "metadata": {},
     "output_type": "execute_result"
    }
   ],
   "source": [
    "d6.head(10)"
   ]
  },
  {
   "cell_type": "code",
   "execution_count": 146,
   "metadata": {
    "collapsed": true
   },
   "outputs": [],
   "source": [
    "d6a = d6.groupby(['pro_cde', 'lic_id']).size().reset_index(name = 'Tp_prof_post_grad_count')"
   ]
  },
  {
   "cell_type": "code",
   "execution_count": 148,
   "metadata": {
    "collapsed": true
   },
   "outputs": [],
   "source": [
    "dd6 = pd.merge(dd5,d6a,how='left',on = ['lic_id','pro_cde'])"
   ]
  },
  {
   "cell_type": "code",
   "execution_count": 150,
   "metadata": {
    "collapsed": false
   },
   "outputs": [
    {
     "data": {
      "text/plain": [
       "(204776, 51)"
      ]
     },
     "execution_count": 150,
     "metadata": {},
     "output_type": "execute_result"
    }
   ],
   "source": [
    "dd6.shape"
   ]
  },
  {
   "cell_type": "code",
   "execution_count": 151,
   "metadata": {
    "collapsed": false
   },
   "outputs": [
    {
     "data": {
      "text/html": [
       "<div>\n",
       "<table border=\"1\" class=\"dataframe\">\n",
       "  <thead>\n",
       "    <tr style=\"text-align: right;\">\n",
       "      <th></th>\n",
       "      <th>pro_cde</th>\n",
       "      <th>lic_id</th>\n",
       "      <th>lic_nbr</th>\n",
       "      <th>l_name</th>\n",
       "      <th>f_name</th>\n",
       "      <th>m_name</th>\n",
       "      <th>name_suffix</th>\n",
       "      <th>ml_addr_line1</th>\n",
       "      <th>ml_addr_line2</th>\n",
       "      <th>ml_addr_city</th>\n",
       "      <th>...</th>\n",
       "      <th>inst_nme</th>\n",
       "      <th>deg_cert_earn_cde</th>\n",
       "      <th>specialty_cert_count</th>\n",
       "      <th>fclty_apt_count</th>\n",
       "      <th>financial_resp</th>\n",
       "      <th>financial_exempt</th>\n",
       "      <th>liability_claim</th>\n",
       "      <th>insured</th>\n",
       "      <th>other_health_dg_count</th>\n",
       "      <th>Tp_prof_post_grad_count</th>\n",
       "    </tr>\n",
       "  </thead>\n",
       "  <tbody>\n",
       "    <tr>\n",
       "      <th>0</th>\n",
       "      <td>1901</td>\n",
       "      <td>1555</td>\n",
       "      <td>2607</td>\n",
       "      <td>RICHARD</td>\n",
       "      <td>RONALD</td>\n",
       "      <td>J</td>\n",
       "      <td>NaN</td>\n",
       "      <td>991 WYLIE RD #168</td>\n",
       "      <td>NaN</td>\n",
       "      <td>MARIETTA</td>\n",
       "      <td>...</td>\n",
       "      <td>NaN</td>\n",
       "      <td>NaN</td>\n",
       "      <td>0.0</td>\n",
       "      <td>0.0</td>\n",
       "      <td>NaN</td>\n",
       "      <td>NaN</td>\n",
       "      <td>NaN</td>\n",
       "      <td>NaN</td>\n",
       "      <td>0.0</td>\n",
       "      <td>NaN</td>\n",
       "    </tr>\n",
       "    <tr>\n",
       "      <th>1</th>\n",
       "      <td>1901</td>\n",
       "      <td>1556</td>\n",
       "      <td>2608</td>\n",
       "      <td>HAMMOND</td>\n",
       "      <td>JOHN</td>\n",
       "      <td>E</td>\n",
       "      <td>NaN</td>\n",
       "      <td>3252 NEWGATE CT</td>\n",
       "      <td>NaN</td>\n",
       "      <td>DUBLIN</td>\n",
       "      <td>...</td>\n",
       "      <td>NaN</td>\n",
       "      <td>NaN</td>\n",
       "      <td>0.0</td>\n",
       "      <td>0.0</td>\n",
       "      <td>NaN</td>\n",
       "      <td>NaN</td>\n",
       "      <td>NaN</td>\n",
       "      <td>NaN</td>\n",
       "      <td>0.0</td>\n",
       "      <td>NaN</td>\n",
       "    </tr>\n",
       "    <tr>\n",
       "      <th>2</th>\n",
       "      <td>1901</td>\n",
       "      <td>1557</td>\n",
       "      <td>2609</td>\n",
       "      <td>HEIST</td>\n",
       "      <td>KENNETH</td>\n",
       "      <td>P</td>\n",
       "      <td>NaN</td>\n",
       "      <td>1 A REGULUS DR</td>\n",
       "      <td>NaN</td>\n",
       "      <td>TURNERSVILLE</td>\n",
       "      <td>...</td>\n",
       "      <td>PHILADELPHIA COLLEGE OF OSTEOP</td>\n",
       "      <td>DO</td>\n",
       "      <td>1.0</td>\n",
       "      <td>0.0</td>\n",
       "      <td>2.0</td>\n",
       "      <td>NaN</td>\n",
       "      <td>Y</td>\n",
       "      <td>Y</td>\n",
       "      <td>0.0</td>\n",
       "      <td>2.0</td>\n",
       "    </tr>\n",
       "    <tr>\n",
       "      <th>3</th>\n",
       "      <td>1901</td>\n",
       "      <td>1558</td>\n",
       "      <td>2610</td>\n",
       "      <td>FOSTER</td>\n",
       "      <td>LAWRENCE</td>\n",
       "      <td>A</td>\n",
       "      <td>NaN</td>\n",
       "      <td>16499 SNEFFELS CT</td>\n",
       "      <td>NaN</td>\n",
       "      <td>BROOMFIELD</td>\n",
       "      <td>...</td>\n",
       "      <td>PHILADELPHIA COLLEGE OF OSTEOP</td>\n",
       "      <td>DO</td>\n",
       "      <td>1.0</td>\n",
       "      <td>1.0</td>\n",
       "      <td>6.0</td>\n",
       "      <td>4.0</td>\n",
       "      <td>NaN</td>\n",
       "      <td>Y</td>\n",
       "      <td>0.0</td>\n",
       "      <td>1.0</td>\n",
       "    </tr>\n",
       "    <tr>\n",
       "      <th>4</th>\n",
       "      <td>1901</td>\n",
       "      <td>1559</td>\n",
       "      <td>2611</td>\n",
       "      <td>HIMES</td>\n",
       "      <td>GEORGE</td>\n",
       "      <td>E</td>\n",
       "      <td>NaN</td>\n",
       "      <td>3921 BEECHER RD</td>\n",
       "      <td>NaN</td>\n",
       "      <td>FLINT</td>\n",
       "      <td>...</td>\n",
       "      <td>NaN</td>\n",
       "      <td>NaN</td>\n",
       "      <td>0.0</td>\n",
       "      <td>0.0</td>\n",
       "      <td>NaN</td>\n",
       "      <td>NaN</td>\n",
       "      <td>NaN</td>\n",
       "      <td>NaN</td>\n",
       "      <td>0.0</td>\n",
       "      <td>NaN</td>\n",
       "    </tr>\n",
       "  </tbody>\n",
       "</table>\n",
       "<p>5 rows × 51 columns</p>\n",
       "</div>"
      ],
      "text/plain": [
       "   pro_cde  lic_id  lic_nbr   l_name    f_name m_name name_suffix  \\\n",
       "0     1901    1555     2607  RICHARD    RONALD      J         NaN   \n",
       "1     1901    1556     2608  HAMMOND      JOHN      E         NaN   \n",
       "2     1901    1557     2609    HEIST   KENNETH      P         NaN   \n",
       "3     1901    1558     2610   FOSTER  LAWRENCE      A         NaN   \n",
       "4     1901    1559     2611    HIMES    GEORGE      E         NaN   \n",
       "\n",
       "       ml_addr_line1 ml_addr_line2  ml_addr_city           ...            \\\n",
       "0  991 WYLIE RD #168           NaN      MARIETTA           ...             \n",
       "1    3252 NEWGATE CT           NaN        DUBLIN           ...             \n",
       "2     1 A REGULUS DR           NaN  TURNERSVILLE           ...             \n",
       "3  16499 SNEFFELS CT           NaN    BROOMFIELD           ...             \n",
       "4    3921 BEECHER RD           NaN         FLINT           ...             \n",
       "\n",
       "                         inst_nme deg_cert_earn_cde  specialty_cert_count  \\\n",
       "0                             NaN               NaN                   0.0   \n",
       "1                             NaN               NaN                   0.0   \n",
       "2  PHILADELPHIA COLLEGE OF OSTEOP                DO                   1.0   \n",
       "3  PHILADELPHIA COLLEGE OF OSTEOP                DO                   1.0   \n",
       "4                             NaN               NaN                   0.0   \n",
       "\n",
       "  fclty_apt_count financial_resp financial_exempt liability_claim insured  \\\n",
       "0             0.0            NaN              NaN             NaN     NaN   \n",
       "1             0.0            NaN              NaN             NaN     NaN   \n",
       "2             0.0            2.0              NaN               Y       Y   \n",
       "3             1.0            6.0              4.0             NaN       Y   \n",
       "4             0.0            NaN              NaN             NaN     NaN   \n",
       "\n",
       "   other_health_dg_count Tp_prof_post_grad_count  \n",
       "0                    0.0                     NaN  \n",
       "1                    0.0                     NaN  \n",
       "2                    0.0                     2.0  \n",
       "3                    0.0                     1.0  \n",
       "4                    0.0                     NaN  \n",
       "\n",
       "[5 rows x 51 columns]"
      ]
     },
     "execution_count": 151,
     "metadata": {},
     "output_type": "execute_result"
    }
   ],
   "source": [
    "dd6.head()"
   ]
  },
  {
   "cell_type": "code",
   "execution_count": 152,
   "metadata": {
    "collapsed": true
   },
   "outputs": [],
   "source": [
    "dd6['Tp_prof_post_grad_count'].fillna(0, inplace=True)"
   ]
  },
  {
   "cell_type": "markdown",
   "metadata": {},
   "source": [
    "# Dataset 7 Tp_publications"
   ]
  },
  {
   "cell_type": "code",
   "execution_count": 155,
   "metadata": {
    "collapsed": true
   },
   "outputs": [],
   "source": [
    "d7 = pd.read_csv('Tp_publications.csv')"
   ]
  },
  {
   "cell_type": "code",
   "execution_count": 156,
   "metadata": {
    "collapsed": false
   },
   "outputs": [
    {
     "data": {
      "text/plain": [
       "(38175, 7)"
      ]
     },
     "execution_count": 156,
     "metadata": {},
     "output_type": "execute_result"
    }
   ],
   "source": [
    "d7.shape"
   ]
  },
  {
   "cell_type": "code",
   "execution_count": 157,
   "metadata": {
    "collapsed": false
   },
   "outputs": [
    {
     "data": {
      "text/html": [
       "<div>\n",
       "<table border=\"1\" class=\"dataframe\">\n",
       "  <thead>\n",
       "    <tr style=\"text-align: right;\">\n",
       "      <th></th>\n",
       "      <th>ID</th>\n",
       "      <th>pro_cde</th>\n",
       "      <th>lic_id</th>\n",
       "      <th>rec_id</th>\n",
       "      <th>publication</th>\n",
       "      <th>article_title</th>\n",
       "      <th>date_of_pub</th>\n",
       "    </tr>\n",
       "  </thead>\n",
       "  <tbody>\n",
       "    <tr>\n",
       "      <th>0</th>\n",
       "      <td>1</td>\n",
       "      <td>501</td>\n",
       "      <td>5823</td>\n",
       "      <td>95232562</td>\n",
       "      <td>JOURNAL OF BACK &amp; MUSCULOSKELETAL REHABILITATION</td>\n",
       "      <td>PIRIFORMIS INVOLVEMENT IN DANCERS WITH LOW BAC...</td>\n",
       "      <td>01/01/1995</td>\n",
       "    </tr>\n",
       "    <tr>\n",
       "      <th>1</th>\n",
       "      <td>2</td>\n",
       "      <td>501</td>\n",
       "      <td>3135</td>\n",
       "      <td>95232561</td>\n",
       "      <td>CHIROPRACTIC PEDIATRICS</td>\n",
       "      <td>REDUCTION OF VERTEBRAL SUBLUXATION IN CHILD W ...</td>\n",
       "      <td>04/01/1996</td>\n",
       "    </tr>\n",
       "    <tr>\n",
       "      <th>2</th>\n",
       "      <td>3</td>\n",
       "      <td>501</td>\n",
       "      <td>3135</td>\n",
       "      <td>95232560</td>\n",
       "      <td>INTERNATIONAL REVIEW OF CHIROPRACTIC</td>\n",
       "      <td>CARING FOR THE PHYSICALLY CHALLENGED ATHLETE</td>\n",
       "      <td>05/31/1996</td>\n",
       "    </tr>\n",
       "    <tr>\n",
       "      <th>3</th>\n",
       "      <td>4</td>\n",
       "      <td>501</td>\n",
       "      <td>1354</td>\n",
       "      <td>95232559</td>\n",
       "      <td>MIAMI BUSINESS JOURNAL</td>\n",
       "      <td>HMO'S</td>\n",
       "      <td>NaN</td>\n",
       "    </tr>\n",
       "    <tr>\n",
       "      <th>4</th>\n",
       "      <td>5</td>\n",
       "      <td>501</td>\n",
       "      <td>1354</td>\n",
       "      <td>95232558</td>\n",
       "      <td>INTERNATIONAL CHIROPRACTIC JOURNAL</td>\n",
       "      <td>HMO'S</td>\n",
       "      <td>NaN</td>\n",
       "    </tr>\n",
       "    <tr>\n",
       "      <th>5</th>\n",
       "      <td>6</td>\n",
       "      <td>501</td>\n",
       "      <td>1354</td>\n",
       "      <td>95232557</td>\n",
       "      <td>FLORIDA CHIROPRACTIC ASSOCIATION JOURNAL</td>\n",
       "      <td>HMOS COST CONTAINMENT</td>\n",
       "      <td>NaN</td>\n",
       "    </tr>\n",
       "    <tr>\n",
       "      <th>6</th>\n",
       "      <td>7</td>\n",
       "      <td>501</td>\n",
       "      <td>5291</td>\n",
       "      <td>95232556</td>\n",
       "      <td>FCA COUNCIL ON SPORTS INJURIES JOURNAL</td>\n",
       "      <td>EFFECTS OF JOINT INJURIES ON PROPRIOCEPTION</td>\n",
       "      <td>01/01/1992</td>\n",
       "    </tr>\n",
       "    <tr>\n",
       "      <th>7</th>\n",
       "      <td>8</td>\n",
       "      <td>501</td>\n",
       "      <td>5291</td>\n",
       "      <td>95232555</td>\n",
       "      <td>CHIROPRACTIC SPORTS MEDICINE</td>\n",
       "      <td>PROTOCOLS FOR PROPRIOCEPTIVE ACTIVE RETRAINING...</td>\n",
       "      <td>05/01/1995</td>\n",
       "    </tr>\n",
       "    <tr>\n",
       "      <th>8</th>\n",
       "      <td>9</td>\n",
       "      <td>501</td>\n",
       "      <td>4344</td>\n",
       "      <td>95232554</td>\n",
       "      <td>SCHOLARS CONSORTIUM LLC</td>\n",
       "      <td>MYELOPATHY RADICULOPATHY AND PERIPHERAL ENTRAP...</td>\n",
       "      <td>01/01/2013</td>\n",
       "    </tr>\n",
       "    <tr>\n",
       "      <th>9</th>\n",
       "      <td>10</td>\n",
       "      <td>501</td>\n",
       "      <td>5937</td>\n",
       "      <td>95232552</td>\n",
       "      <td>NaN</td>\n",
       "      <td>N</td>\n",
       "      <td>NaN</td>\n",
       "    </tr>\n",
       "  </tbody>\n",
       "</table>\n",
       "</div>"
      ],
      "text/plain": [
       "   ID  pro_cde  lic_id    rec_id  \\\n",
       "0   1      501    5823  95232562   \n",
       "1   2      501    3135  95232561   \n",
       "2   3      501    3135  95232560   \n",
       "3   4      501    1354  95232559   \n",
       "4   5      501    1354  95232558   \n",
       "5   6      501    1354  95232557   \n",
       "6   7      501    5291  95232556   \n",
       "7   8      501    5291  95232555   \n",
       "8   9      501    4344  95232554   \n",
       "9  10      501    5937  95232552   \n",
       "\n",
       "                                        publication  \\\n",
       "0  JOURNAL OF BACK & MUSCULOSKELETAL REHABILITATION   \n",
       "1                           CHIROPRACTIC PEDIATRICS   \n",
       "2              INTERNATIONAL REVIEW OF CHIROPRACTIC   \n",
       "3                            MIAMI BUSINESS JOURNAL   \n",
       "4                INTERNATIONAL CHIROPRACTIC JOURNAL   \n",
       "5          FLORIDA CHIROPRACTIC ASSOCIATION JOURNAL   \n",
       "6            FCA COUNCIL ON SPORTS INJURIES JOURNAL   \n",
       "7                      CHIROPRACTIC SPORTS MEDICINE   \n",
       "8                           SCHOLARS CONSORTIUM LLC   \n",
       "9                                               NaN   \n",
       "\n",
       "                                       article_title date_of_pub  \n",
       "0  PIRIFORMIS INVOLVEMENT IN DANCERS WITH LOW BAC...  01/01/1995  \n",
       "1  REDUCTION OF VERTEBRAL SUBLUXATION IN CHILD W ...  04/01/1996  \n",
       "2       CARING FOR THE PHYSICALLY CHALLENGED ATHLETE  05/31/1996  \n",
       "3                                              HMO'S         NaN  \n",
       "4                                              HMO'S         NaN  \n",
       "5                              HMOS COST CONTAINMENT         NaN  \n",
       "6        EFFECTS OF JOINT INJURIES ON PROPRIOCEPTION  01/01/1992  \n",
       "7  PROTOCOLS FOR PROPRIOCEPTIVE ACTIVE RETRAINING...  05/01/1995  \n",
       "8  MYELOPATHY RADICULOPATHY AND PERIPHERAL ENTRAP...  01/01/2013  \n",
       "9                                                  N         NaN  "
      ]
     },
     "execution_count": 157,
     "metadata": {},
     "output_type": "execute_result"
    }
   ],
   "source": [
    "d7.head(10)"
   ]
  },
  {
   "cell_type": "code",
   "execution_count": 158,
   "metadata": {
    "collapsed": true
   },
   "outputs": [],
   "source": [
    "d7a = d7.groupby(['pro_cde', 'lic_id']).size().reset_index(name = 'Tp_publications_count')"
   ]
  },
  {
   "cell_type": "code",
   "execution_count": 159,
   "metadata": {
    "collapsed": false
   },
   "outputs": [
    {
     "data": {
      "text/html": [
       "<div>\n",
       "<table border=\"1\" class=\"dataframe\">\n",
       "  <thead>\n",
       "    <tr style=\"text-align: right;\">\n",
       "      <th></th>\n",
       "      <th>pro_cde</th>\n",
       "      <th>lic_id</th>\n",
       "      <th>Tp_publications_count</th>\n",
       "    </tr>\n",
       "  </thead>\n",
       "  <tbody>\n",
       "    <tr>\n",
       "      <th>0</th>\n",
       "      <td>501</td>\n",
       "      <td>146</td>\n",
       "      <td>3</td>\n",
       "    </tr>\n",
       "    <tr>\n",
       "      <th>1</th>\n",
       "      <td>501</td>\n",
       "      <td>205</td>\n",
       "      <td>2</td>\n",
       "    </tr>\n",
       "    <tr>\n",
       "      <th>2</th>\n",
       "      <td>501</td>\n",
       "      <td>222</td>\n",
       "      <td>1</td>\n",
       "    </tr>\n",
       "    <tr>\n",
       "      <th>3</th>\n",
       "      <td>501</td>\n",
       "      <td>272</td>\n",
       "      <td>2</td>\n",
       "    </tr>\n",
       "    <tr>\n",
       "      <th>4</th>\n",
       "      <td>501</td>\n",
       "      <td>295</td>\n",
       "      <td>3</td>\n",
       "    </tr>\n",
       "  </tbody>\n",
       "</table>\n",
       "</div>"
      ],
      "text/plain": [
       "   pro_cde  lic_id  Tp_publications_count\n",
       "0      501     146                      3\n",
       "1      501     205                      2\n",
       "2      501     222                      1\n",
       "3      501     272                      2\n",
       "4      501     295                      3"
      ]
     },
     "execution_count": 159,
     "metadata": {},
     "output_type": "execute_result"
    }
   ],
   "source": [
    "d7a.head()"
   ]
  },
  {
   "cell_type": "code",
   "execution_count": 160,
   "metadata": {
    "collapsed": true
   },
   "outputs": [],
   "source": [
    "dd7 = pd.merge(dd6,d7a,how='left',on = ['lic_id','pro_cde'])"
   ]
  },
  {
   "cell_type": "code",
   "execution_count": 161,
   "metadata": {
    "collapsed": false
   },
   "outputs": [
    {
     "data": {
      "text/plain": [
       "(204776, 52)"
      ]
     },
     "execution_count": 161,
     "metadata": {},
     "output_type": "execute_result"
    }
   ],
   "source": [
    "dd7.shape"
   ]
  },
  {
   "cell_type": "code",
   "execution_count": 162,
   "metadata": {
    "collapsed": true
   },
   "outputs": [],
   "source": [
    "dd7['Tp_publications_count'].fillna(0, inplace=True)"
   ]
  },
  {
   "cell_type": "markdown",
   "metadata": {},
   "source": [
    "# Dataset 8 Tp_honors"
   ]
  },
  {
   "cell_type": "code",
   "execution_count": 166,
   "metadata": {
    "collapsed": true
   },
   "outputs": [],
   "source": [
    "d8 = pd.read_csv('Tp_honors.csv')"
   ]
  },
  {
   "cell_type": "code",
   "execution_count": 167,
   "metadata": {
    "collapsed": false
   },
   "outputs": [
    {
     "data": {
      "text/plain": [
       "(49490, 6)"
      ]
     },
     "execution_count": 167,
     "metadata": {},
     "output_type": "execute_result"
    }
   ],
   "source": [
    "d8.shape"
   ]
  },
  {
   "cell_type": "code",
   "execution_count": 168,
   "metadata": {
    "collapsed": false
   },
   "outputs": [
    {
     "data": {
      "text/html": [
       "<div>\n",
       "<table border=\"1\" class=\"dataframe\">\n",
       "  <thead>\n",
       "    <tr style=\"text-align: right;\">\n",
       "      <th></th>\n",
       "      <th>ID</th>\n",
       "      <th>pro_cde</th>\n",
       "      <th>lic_id</th>\n",
       "      <th>rec_id</th>\n",
       "      <th>honors_awards</th>\n",
       "      <th>organization</th>\n",
       "    </tr>\n",
       "  </thead>\n",
       "  <tbody>\n",
       "    <tr>\n",
       "      <th>0</th>\n",
       "      <td>1</td>\n",
       "      <td>501</td>\n",
       "      <td>6852</td>\n",
       "      <td>95216289</td>\n",
       "      <td>PAST PRESIDENT</td>\n",
       "      <td>POMPANO LIGHTHOUSE ROTARY CLUB</td>\n",
       "    </tr>\n",
       "    <tr>\n",
       "      <th>1</th>\n",
       "      <td>2</td>\n",
       "      <td>501</td>\n",
       "      <td>10694</td>\n",
       "      <td>95216279</td>\n",
       "      <td>NaN</td>\n",
       "      <td>FLORIDA CHIROPRACTIC ASSOCIATION</td>\n",
       "    </tr>\n",
       "    <tr>\n",
       "      <th>2</th>\n",
       "      <td>3</td>\n",
       "      <td>501</td>\n",
       "      <td>10692</td>\n",
       "      <td>95216278</td>\n",
       "      <td>WHO'S WHO IN CHIROPRACTIC 1980</td>\n",
       "      <td>NYSCA</td>\n",
       "    </tr>\n",
       "    <tr>\n",
       "      <th>3</th>\n",
       "      <td>4</td>\n",
       "      <td>501</td>\n",
       "      <td>10689</td>\n",
       "      <td>95216275</td>\n",
       "      <td>HUMANITARIAN AWARD FOR CHIRO SERV IN VIETNAM</td>\n",
       "      <td>FLORIDA CHIROPRACTIC ASSOCIATION</td>\n",
       "    </tr>\n",
       "    <tr>\n",
       "      <th>4</th>\n",
       "      <td>5</td>\n",
       "      <td>501</td>\n",
       "      <td>10581</td>\n",
       "      <td>95216273</td>\n",
       "      <td>GRADUATED MAGNA CUM LAUDE</td>\n",
       "      <td>PALMER COLLEGE OF CHIROPRACTIC FLORIDA</td>\n",
       "    </tr>\n",
       "  </tbody>\n",
       "</table>\n",
       "</div>"
      ],
      "text/plain": [
       "   ID  pro_cde  lic_id    rec_id  \\\n",
       "0   1      501    6852  95216289   \n",
       "1   2      501   10694  95216279   \n",
       "2   3      501   10692  95216278   \n",
       "3   4      501   10689  95216275   \n",
       "4   5      501   10581  95216273   \n",
       "\n",
       "                                  honors_awards  \\\n",
       "0                                PAST PRESIDENT   \n",
       "1                                           NaN   \n",
       "2                WHO'S WHO IN CHIROPRACTIC 1980   \n",
       "3  HUMANITARIAN AWARD FOR CHIRO SERV IN VIETNAM   \n",
       "4                     GRADUATED MAGNA CUM LAUDE   \n",
       "\n",
       "                             organization  \n",
       "0          POMPANO LIGHTHOUSE ROTARY CLUB  \n",
       "1        FLORIDA CHIROPRACTIC ASSOCIATION  \n",
       "2                                   NYSCA  \n",
       "3        FLORIDA CHIROPRACTIC ASSOCIATION  \n",
       "4  PALMER COLLEGE OF CHIROPRACTIC FLORIDA  "
      ]
     },
     "execution_count": 168,
     "metadata": {},
     "output_type": "execute_result"
    }
   ],
   "source": [
    "d8.head()"
   ]
  },
  {
   "cell_type": "code",
   "execution_count": 169,
   "metadata": {
    "collapsed": true
   },
   "outputs": [],
   "source": [
    "d8a = d8.groupby(['pro_cde', 'lic_id']).size().reset_index(name = 'Tp_honors_count')"
   ]
  },
  {
   "cell_type": "code",
   "execution_count": 172,
   "metadata": {
    "collapsed": false
   },
   "outputs": [
    {
     "data": {
      "text/html": [
       "<div>\n",
       "<table border=\"1\" class=\"dataframe\">\n",
       "  <thead>\n",
       "    <tr style=\"text-align: right;\">\n",
       "      <th></th>\n",
       "      <th>pro_cde</th>\n",
       "      <th>lic_id</th>\n",
       "      <th>Tp_honors_count</th>\n",
       "    </tr>\n",
       "  </thead>\n",
       "  <tbody>\n",
       "    <tr>\n",
       "      <th>0</th>\n",
       "      <td>501</td>\n",
       "      <td>85</td>\n",
       "      <td>1</td>\n",
       "    </tr>\n",
       "    <tr>\n",
       "      <th>1</th>\n",
       "      <td>501</td>\n",
       "      <td>100</td>\n",
       "      <td>1</td>\n",
       "    </tr>\n",
       "    <tr>\n",
       "      <th>2</th>\n",
       "      <td>501</td>\n",
       "      <td>107</td>\n",
       "      <td>1</td>\n",
       "    </tr>\n",
       "    <tr>\n",
       "      <th>3</th>\n",
       "      <td>501</td>\n",
       "      <td>109</td>\n",
       "      <td>1</td>\n",
       "    </tr>\n",
       "    <tr>\n",
       "      <th>4</th>\n",
       "      <td>501</td>\n",
       "      <td>134</td>\n",
       "      <td>7</td>\n",
       "    </tr>\n",
       "  </tbody>\n",
       "</table>\n",
       "</div>"
      ],
      "text/plain": [
       "   pro_cde  lic_id  Tp_honors_count\n",
       "0      501      85                1\n",
       "1      501     100                1\n",
       "2      501     107                1\n",
       "3      501     109                1\n",
       "4      501     134                7"
      ]
     },
     "execution_count": 172,
     "metadata": {},
     "output_type": "execute_result"
    }
   ],
   "source": [
    "d8a.head()"
   ]
  },
  {
   "cell_type": "code",
   "execution_count": 173,
   "metadata": {
    "collapsed": true
   },
   "outputs": [],
   "source": [
    "dd8 = pd.merge(dd7,d8a,how='left',on = ['lic_id','pro_cde'])"
   ]
  },
  {
   "cell_type": "code",
   "execution_count": 174,
   "metadata": {
    "collapsed": false
   },
   "outputs": [
    {
     "data": {
      "text/plain": [
       "(204776, 53)"
      ]
     },
     "execution_count": 174,
     "metadata": {},
     "output_type": "execute_result"
    }
   ],
   "source": [
    "dd8.shape"
   ]
  },
  {
   "cell_type": "code",
   "execution_count": 175,
   "metadata": {
    "collapsed": true
   },
   "outputs": [],
   "source": [
    "dd8['Tp_honors_count'].fillna(0, inplace=True)"
   ]
  },
  {
   "cell_type": "markdown",
   "metadata": {},
   "source": [
    "# Dataset 9 Tp_memberships"
   ]
  },
  {
   "cell_type": "code",
   "execution_count": 179,
   "metadata": {
    "collapsed": false
   },
   "outputs": [],
   "source": [
    "d9 = pd.read_csv('Tp_memberships.csv')"
   ]
  },
  {
   "cell_type": "code",
   "execution_count": 180,
   "metadata": {
    "collapsed": false
   },
   "outputs": [
    {
     "data": {
      "text/plain": [
       "(44580, 5)"
      ]
     },
     "execution_count": 180,
     "metadata": {},
     "output_type": "execute_result"
    }
   ],
   "source": [
    "d9.shape"
   ]
  },
  {
   "cell_type": "code",
   "execution_count": 181,
   "metadata": {
    "collapsed": false
   },
   "outputs": [
    {
     "data": {
      "text/html": [
       "<div>\n",
       "<table border=\"1\" class=\"dataframe\">\n",
       "  <thead>\n",
       "    <tr style=\"text-align: right;\">\n",
       "      <th></th>\n",
       "      <th>ID</th>\n",
       "      <th>pro_cde</th>\n",
       "      <th>lic_id</th>\n",
       "      <th>rec_id</th>\n",
       "      <th>comm_member</th>\n",
       "    </tr>\n",
       "  </thead>\n",
       "  <tbody>\n",
       "    <tr>\n",
       "      <th>0</th>\n",
       "      <td>1</td>\n",
       "      <td>501</td>\n",
       "      <td>3308</td>\n",
       "      <td>95202983</td>\n",
       "      <td>PAST MEMBER CREDENTIALING COMMITTEE  PBC HEALT...</td>\n",
       "    </tr>\n",
       "    <tr>\n",
       "      <th>1</th>\n",
       "      <td>2</td>\n",
       "      <td>501</td>\n",
       "      <td>4432</td>\n",
       "      <td>95202982</td>\n",
       "      <td>EMA</td>\n",
       "    </tr>\n",
       "    <tr>\n",
       "      <th>2</th>\n",
       "      <td>3</td>\n",
       "      <td>501</td>\n",
       "      <td>4753</td>\n",
       "      <td>95202981</td>\n",
       "      <td>FCA, KEYWEST HS ATHLETICS,</td>\n",
       "    </tr>\n",
       "    <tr>\n",
       "      <th>3</th>\n",
       "      <td>4</td>\n",
       "      <td>501</td>\n",
       "      <td>6307</td>\n",
       "      <td>95202980</td>\n",
       "      <td>BREVARD COUNTY CHIRO SOCIETY PUBLIC AFFAIRS OF...</td>\n",
       "    </tr>\n",
       "    <tr>\n",
       "      <th>4</th>\n",
       "      <td>5</td>\n",
       "      <td>501</td>\n",
       "      <td>9978</td>\n",
       "      <td>95202979</td>\n",
       "      <td>FLORIDA CHIROPRACTIC ASSOCIATION</td>\n",
       "    </tr>\n",
       "  </tbody>\n",
       "</table>\n",
       "</div>"
      ],
      "text/plain": [
       "   ID  pro_cde  lic_id    rec_id  \\\n",
       "0   1      501    3308  95202983   \n",
       "1   2      501    4432  95202982   \n",
       "2   3      501    4753  95202981   \n",
       "3   4      501    6307  95202980   \n",
       "4   5      501    9978  95202979   \n",
       "\n",
       "                                         comm_member  \n",
       "0  PAST MEMBER CREDENTIALING COMMITTEE  PBC HEALT...  \n",
       "1                                                EMA  \n",
       "2                         FCA, KEYWEST HS ATHLETICS,  \n",
       "3  BREVARD COUNTY CHIRO SOCIETY PUBLIC AFFAIRS OF...  \n",
       "4                   FLORIDA CHIROPRACTIC ASSOCIATION  "
      ]
     },
     "execution_count": 181,
     "metadata": {},
     "output_type": "execute_result"
    }
   ],
   "source": [
    "d9.head()"
   ]
  },
  {
   "cell_type": "code",
   "execution_count": 182,
   "metadata": {
    "collapsed": true
   },
   "outputs": [],
   "source": [
    "d9a = d9.groupby(['pro_cde', 'lic_id']).size().reset_index(name = 'Tp_memberships_count')"
   ]
  },
  {
   "cell_type": "code",
   "execution_count": 183,
   "metadata": {
    "collapsed": false
   },
   "outputs": [
    {
     "data": {
      "text/html": [
       "<div>\n",
       "<table border=\"1\" class=\"dataframe\">\n",
       "  <thead>\n",
       "    <tr style=\"text-align: right;\">\n",
       "      <th></th>\n",
       "      <th>pro_cde</th>\n",
       "      <th>lic_id</th>\n",
       "      <th>Tp_memberships_count</th>\n",
       "    </tr>\n",
       "  </thead>\n",
       "  <tbody>\n",
       "    <tr>\n",
       "      <th>0</th>\n",
       "      <td>501</td>\n",
       "      <td>62</td>\n",
       "      <td>1</td>\n",
       "    </tr>\n",
       "    <tr>\n",
       "      <th>1</th>\n",
       "      <td>501</td>\n",
       "      <td>85</td>\n",
       "      <td>3</td>\n",
       "    </tr>\n",
       "    <tr>\n",
       "      <th>2</th>\n",
       "      <td>501</td>\n",
       "      <td>98</td>\n",
       "      <td>1</td>\n",
       "    </tr>\n",
       "    <tr>\n",
       "      <th>3</th>\n",
       "      <td>501</td>\n",
       "      <td>109</td>\n",
       "      <td>2</td>\n",
       "    </tr>\n",
       "    <tr>\n",
       "      <th>4</th>\n",
       "      <td>501</td>\n",
       "      <td>118</td>\n",
       "      <td>1</td>\n",
       "    </tr>\n",
       "  </tbody>\n",
       "</table>\n",
       "</div>"
      ],
      "text/plain": [
       "   pro_cde  lic_id  Tp_memberships_count\n",
       "0      501      62                     1\n",
       "1      501      85                     3\n",
       "2      501      98                     1\n",
       "3      501     109                     2\n",
       "4      501     118                     1"
      ]
     },
     "execution_count": 183,
     "metadata": {},
     "output_type": "execute_result"
    }
   ],
   "source": [
    "d9a.head()"
   ]
  },
  {
   "cell_type": "code",
   "execution_count": 184,
   "metadata": {
    "collapsed": true
   },
   "outputs": [],
   "source": [
    "dd9 = pd.merge(dd8,d9a,how='left',on = ['lic_id','pro_cde'])"
   ]
  },
  {
   "cell_type": "code",
   "execution_count": 185,
   "metadata": {
    "collapsed": false
   },
   "outputs": [
    {
     "data": {
      "text/plain": [
       "(204776, 54)"
      ]
     },
     "execution_count": 185,
     "metadata": {},
     "output_type": "execute_result"
    }
   ],
   "source": [
    "dd9.shape"
   ]
  },
  {
   "cell_type": "code",
   "execution_count": 186,
   "metadata": {
    "collapsed": true
   },
   "outputs": [],
   "source": [
    "dd9['Tp_memberships_count'].fillna(0, inplace=True)"
   ]
  },
  {
   "cell_type": "markdown",
   "metadata": {},
   "source": [
    "# Dataset 10 Tp_closed_claim"
   ]
  },
  {
   "cell_type": "code",
   "execution_count": 189,
   "metadata": {
    "collapsed": true
   },
   "outputs": [],
   "source": [
    "d10 = pd.read_csv('Tp_closed_claim.csv')"
   ]
  },
  {
   "cell_type": "code",
   "execution_count": 190,
   "metadata": {
    "collapsed": false
   },
   "outputs": [
    {
     "data": {
      "text/plain": [
       "(6669, 10)"
      ]
     },
     "execution_count": 190,
     "metadata": {},
     "output_type": "execute_result"
    }
   ],
   "source": [
    "d10.shape"
   ]
  },
  {
   "cell_type": "code",
   "execution_count": 191,
   "metadata": {
    "collapsed": false
   },
   "outputs": [
    {
     "data": {
      "text/html": [
       "<div>\n",
       "<table border=\"1\" class=\"dataframe\">\n",
       "  <thead>\n",
       "    <tr style=\"text-align: right;\">\n",
       "      <th></th>\n",
       "      <th>ID</th>\n",
       "      <th>pro_cde</th>\n",
       "      <th>lic_id</th>\n",
       "      <th>rec_key</th>\n",
       "      <th>county</th>\n",
       "      <th>case_number</th>\n",
       "      <th>incident_date</th>\n",
       "      <th>settlement_date</th>\n",
       "      <th>settlement_amt</th>\n",
       "      <th>policy_amt</th>\n",
       "    </tr>\n",
       "  </thead>\n",
       "  <tbody>\n",
       "    <tr>\n",
       "      <th>0</th>\n",
       "      <td>1</td>\n",
       "      <td>1901</td>\n",
       "      <td>10316</td>\n",
       "      <td>5490856</td>\n",
       "      <td>BROWARD</td>\n",
       "      <td>15-007429</td>\n",
       "      <td>12/4/2013 0:00:00</td>\n",
       "      <td>7/1/2016 0:00:00</td>\n",
       "      <td>250000</td>\n",
       "      <td>250000.0</td>\n",
       "    </tr>\n",
       "    <tr>\n",
       "      <th>1</th>\n",
       "      <td>2</td>\n",
       "      <td>1901</td>\n",
       "      <td>10932</td>\n",
       "      <td>5703391</td>\n",
       "      <td>NaN</td>\n",
       "      <td>NaN</td>\n",
       "      <td>9/13/2010 0:00:00</td>\n",
       "      <td>3/9/2016 0:00:00</td>\n",
       "      <td>500000</td>\n",
       "      <td>1000000.0</td>\n",
       "    </tr>\n",
       "    <tr>\n",
       "      <th>2</th>\n",
       "      <td>3</td>\n",
       "      <td>1901</td>\n",
       "      <td>3664</td>\n",
       "      <td>11204</td>\n",
       "      <td>CITRUS</td>\n",
       "      <td>2016 CA 0000 18A</td>\n",
       "      <td>1/10/2014 0:00:00</td>\n",
       "      <td>10/20/2016 0:00:00</td>\n",
       "      <td>250000</td>\n",
       "      <td>250000.0</td>\n",
       "    </tr>\n",
       "    <tr>\n",
       "      <th>3</th>\n",
       "      <td>4</td>\n",
       "      <td>1901</td>\n",
       "      <td>7979</td>\n",
       "      <td>15997</td>\n",
       "      <td>HERNANDO</td>\n",
       "      <td>CA-12-2338</td>\n",
       "      <td>1/22/2011 0:00:00</td>\n",
       "      <td>4/20/2016 0:00:00</td>\n",
       "      <td>150000</td>\n",
       "      <td>NaN</td>\n",
       "    </tr>\n",
       "    <tr>\n",
       "      <th>4</th>\n",
       "      <td>5</td>\n",
       "      <td>1901</td>\n",
       "      <td>8105</td>\n",
       "      <td>16139</td>\n",
       "      <td>CHARLOTTE</td>\n",
       "      <td>13-002153</td>\n",
       "      <td>8/8/2011 0:00:00</td>\n",
       "      <td>4/4/2016 0:00:00</td>\n",
       "      <td>250000</td>\n",
       "      <td>NaN</td>\n",
       "    </tr>\n",
       "  </tbody>\n",
       "</table>\n",
       "</div>"
      ],
      "text/plain": [
       "   ID  pro_cde  lic_id  rec_key     county       case_number  \\\n",
       "0   1     1901   10316  5490856    BROWARD         15-007429   \n",
       "1   2     1901   10932  5703391        NaN               NaN   \n",
       "2   3     1901    3664    11204     CITRUS  2016 CA 0000 18A   \n",
       "3   4     1901    7979    15997   HERNANDO        CA-12-2338   \n",
       "4   5     1901    8105    16139  CHARLOTTE         13-002153   \n",
       "\n",
       "       incident_date     settlement_date  settlement_amt  policy_amt  \n",
       "0  12/4/2013 0:00:00    7/1/2016 0:00:00          250000    250000.0  \n",
       "1  9/13/2010 0:00:00    3/9/2016 0:00:00          500000   1000000.0  \n",
       "2  1/10/2014 0:00:00  10/20/2016 0:00:00          250000    250000.0  \n",
       "3  1/22/2011 0:00:00   4/20/2016 0:00:00          150000         NaN  \n",
       "4   8/8/2011 0:00:00    4/4/2016 0:00:00          250000         NaN  "
      ]
     },
     "execution_count": 191,
     "metadata": {},
     "output_type": "execute_result"
    }
   ],
   "source": [
    "d10.head()"
   ]
  },
  {
   "cell_type": "code",
   "execution_count": 194,
   "metadata": {
    "collapsed": true
   },
   "outputs": [],
   "source": [
    "d10a = d10.groupby(['pro_cde', 'lic_id']).size().reset_index(name = 'Tp_closed_claim_count')"
   ]
  },
  {
   "cell_type": "code",
   "execution_count": 195,
   "metadata": {
    "collapsed": false
   },
   "outputs": [
    {
     "data": {
      "text/html": [
       "<div>\n",
       "<table border=\"1\" class=\"dataframe\">\n",
       "  <thead>\n",
       "    <tr style=\"text-align: right;\">\n",
       "      <th></th>\n",
       "      <th>pro_cde</th>\n",
       "      <th>lic_id</th>\n",
       "      <th>Tp_closed_claim_count</th>\n",
       "    </tr>\n",
       "  </thead>\n",
       "  <tbody>\n",
       "    <tr>\n",
       "      <th>0</th>\n",
       "      <td>501</td>\n",
       "      <td>1143</td>\n",
       "      <td>1</td>\n",
       "    </tr>\n",
       "    <tr>\n",
       "      <th>1</th>\n",
       "      <td>501</td>\n",
       "      <td>1244</td>\n",
       "      <td>1</td>\n",
       "    </tr>\n",
       "    <tr>\n",
       "      <th>2</th>\n",
       "      <td>501</td>\n",
       "      <td>1695</td>\n",
       "      <td>1</td>\n",
       "    </tr>\n",
       "    <tr>\n",
       "      <th>3</th>\n",
       "      <td>501</td>\n",
       "      <td>1724</td>\n",
       "      <td>1</td>\n",
       "    </tr>\n",
       "    <tr>\n",
       "      <th>4</th>\n",
       "      <td>501</td>\n",
       "      <td>1971</td>\n",
       "      <td>1</td>\n",
       "    </tr>\n",
       "    <tr>\n",
       "      <th>5</th>\n",
       "      <td>501</td>\n",
       "      <td>2761</td>\n",
       "      <td>1</td>\n",
       "    </tr>\n",
       "    <tr>\n",
       "      <th>6</th>\n",
       "      <td>501</td>\n",
       "      <td>2787</td>\n",
       "      <td>1</td>\n",
       "    </tr>\n",
       "    <tr>\n",
       "      <th>7</th>\n",
       "      <td>501</td>\n",
       "      <td>3071</td>\n",
       "      <td>1</td>\n",
       "    </tr>\n",
       "    <tr>\n",
       "      <th>8</th>\n",
       "      <td>501</td>\n",
       "      <td>3472</td>\n",
       "      <td>1</td>\n",
       "    </tr>\n",
       "    <tr>\n",
       "      <th>9</th>\n",
       "      <td>501</td>\n",
       "      <td>3744</td>\n",
       "      <td>1</td>\n",
       "    </tr>\n",
       "    <tr>\n",
       "      <th>10</th>\n",
       "      <td>501</td>\n",
       "      <td>4143</td>\n",
       "      <td>1</td>\n",
       "    </tr>\n",
       "    <tr>\n",
       "      <th>11</th>\n",
       "      <td>501</td>\n",
       "      <td>4210</td>\n",
       "      <td>1</td>\n",
       "    </tr>\n",
       "    <tr>\n",
       "      <th>12</th>\n",
       "      <td>501</td>\n",
       "      <td>4264</td>\n",
       "      <td>1</td>\n",
       "    </tr>\n",
       "    <tr>\n",
       "      <th>13</th>\n",
       "      <td>501</td>\n",
       "      <td>4573</td>\n",
       "      <td>2</td>\n",
       "    </tr>\n",
       "    <tr>\n",
       "      <th>14</th>\n",
       "      <td>501</td>\n",
       "      <td>4621</td>\n",
       "      <td>1</td>\n",
       "    </tr>\n",
       "    <tr>\n",
       "      <th>15</th>\n",
       "      <td>501</td>\n",
       "      <td>4904</td>\n",
       "      <td>1</td>\n",
       "    </tr>\n",
       "    <tr>\n",
       "      <th>16</th>\n",
       "      <td>501</td>\n",
       "      <td>5141</td>\n",
       "      <td>1</td>\n",
       "    </tr>\n",
       "    <tr>\n",
       "      <th>17</th>\n",
       "      <td>501</td>\n",
       "      <td>5152</td>\n",
       "      <td>1</td>\n",
       "    </tr>\n",
       "    <tr>\n",
       "      <th>18</th>\n",
       "      <td>501</td>\n",
       "      <td>5300</td>\n",
       "      <td>1</td>\n",
       "    </tr>\n",
       "    <tr>\n",
       "      <th>19</th>\n",
       "      <td>501</td>\n",
       "      <td>5440</td>\n",
       "      <td>1</td>\n",
       "    </tr>\n",
       "    <tr>\n",
       "      <th>20</th>\n",
       "      <td>501</td>\n",
       "      <td>5496</td>\n",
       "      <td>1</td>\n",
       "    </tr>\n",
       "    <tr>\n",
       "      <th>21</th>\n",
       "      <td>501</td>\n",
       "      <td>5556</td>\n",
       "      <td>1</td>\n",
       "    </tr>\n",
       "    <tr>\n",
       "      <th>22</th>\n",
       "      <td>501</td>\n",
       "      <td>5789</td>\n",
       "      <td>1</td>\n",
       "    </tr>\n",
       "    <tr>\n",
       "      <th>23</th>\n",
       "      <td>501</td>\n",
       "      <td>6128</td>\n",
       "      <td>1</td>\n",
       "    </tr>\n",
       "    <tr>\n",
       "      <th>24</th>\n",
       "      <td>501</td>\n",
       "      <td>6199</td>\n",
       "      <td>1</td>\n",
       "    </tr>\n",
       "    <tr>\n",
       "      <th>25</th>\n",
       "      <td>501</td>\n",
       "      <td>6333</td>\n",
       "      <td>1</td>\n",
       "    </tr>\n",
       "    <tr>\n",
       "      <th>26</th>\n",
       "      <td>501</td>\n",
       "      <td>6339</td>\n",
       "      <td>1</td>\n",
       "    </tr>\n",
       "    <tr>\n",
       "      <th>27</th>\n",
       "      <td>501</td>\n",
       "      <td>6350</td>\n",
       "      <td>1</td>\n",
       "    </tr>\n",
       "    <tr>\n",
       "      <th>28</th>\n",
       "      <td>501</td>\n",
       "      <td>8474</td>\n",
       "      <td>1</td>\n",
       "    </tr>\n",
       "    <tr>\n",
       "      <th>29</th>\n",
       "      <td>501</td>\n",
       "      <td>8636</td>\n",
       "      <td>1</td>\n",
       "    </tr>\n",
       "    <tr>\n",
       "      <th>...</th>\n",
       "      <td>...</td>\n",
       "      <td>...</td>\n",
       "      <td>...</td>\n",
       "    </tr>\n",
       "    <tr>\n",
       "      <th>5168</th>\n",
       "      <td>2101</td>\n",
       "      <td>2801</td>\n",
       "      <td>2</td>\n",
       "    </tr>\n",
       "    <tr>\n",
       "      <th>5169</th>\n",
       "      <td>2101</td>\n",
       "      <td>2803</td>\n",
       "      <td>3</td>\n",
       "    </tr>\n",
       "    <tr>\n",
       "      <th>5170</th>\n",
       "      <td>2101</td>\n",
       "      <td>2805</td>\n",
       "      <td>2</td>\n",
       "    </tr>\n",
       "    <tr>\n",
       "      <th>5171</th>\n",
       "      <td>2101</td>\n",
       "      <td>2817</td>\n",
       "      <td>1</td>\n",
       "    </tr>\n",
       "    <tr>\n",
       "      <th>5172</th>\n",
       "      <td>2101</td>\n",
       "      <td>2834</td>\n",
       "      <td>3</td>\n",
       "    </tr>\n",
       "    <tr>\n",
       "      <th>5173</th>\n",
       "      <td>2101</td>\n",
       "      <td>2842</td>\n",
       "      <td>4</td>\n",
       "    </tr>\n",
       "    <tr>\n",
       "      <th>5174</th>\n",
       "      <td>2101</td>\n",
       "      <td>2856</td>\n",
       "      <td>1</td>\n",
       "    </tr>\n",
       "    <tr>\n",
       "      <th>5175</th>\n",
       "      <td>2101</td>\n",
       "      <td>2896</td>\n",
       "      <td>1</td>\n",
       "    </tr>\n",
       "    <tr>\n",
       "      <th>5176</th>\n",
       "      <td>2101</td>\n",
       "      <td>2908</td>\n",
       "      <td>1</td>\n",
       "    </tr>\n",
       "    <tr>\n",
       "      <th>5177</th>\n",
       "      <td>2101</td>\n",
       "      <td>2933</td>\n",
       "      <td>2</td>\n",
       "    </tr>\n",
       "    <tr>\n",
       "      <th>5178</th>\n",
       "      <td>2101</td>\n",
       "      <td>2951</td>\n",
       "      <td>1</td>\n",
       "    </tr>\n",
       "    <tr>\n",
       "      <th>5179</th>\n",
       "      <td>2101</td>\n",
       "      <td>2957</td>\n",
       "      <td>1</td>\n",
       "    </tr>\n",
       "    <tr>\n",
       "      <th>5180</th>\n",
       "      <td>2101</td>\n",
       "      <td>2981</td>\n",
       "      <td>1</td>\n",
       "    </tr>\n",
       "    <tr>\n",
       "      <th>5181</th>\n",
       "      <td>2101</td>\n",
       "      <td>2989</td>\n",
       "      <td>3</td>\n",
       "    </tr>\n",
       "    <tr>\n",
       "      <th>5182</th>\n",
       "      <td>2101</td>\n",
       "      <td>3037</td>\n",
       "      <td>1</td>\n",
       "    </tr>\n",
       "    <tr>\n",
       "      <th>5183</th>\n",
       "      <td>2101</td>\n",
       "      <td>3053</td>\n",
       "      <td>2</td>\n",
       "    </tr>\n",
       "    <tr>\n",
       "      <th>5184</th>\n",
       "      <td>2101</td>\n",
       "      <td>3151</td>\n",
       "      <td>1</td>\n",
       "    </tr>\n",
       "    <tr>\n",
       "      <th>5185</th>\n",
       "      <td>2101</td>\n",
       "      <td>3174</td>\n",
       "      <td>2</td>\n",
       "    </tr>\n",
       "    <tr>\n",
       "      <th>5186</th>\n",
       "      <td>2101</td>\n",
       "      <td>3193</td>\n",
       "      <td>1</td>\n",
       "    </tr>\n",
       "    <tr>\n",
       "      <th>5187</th>\n",
       "      <td>2101</td>\n",
       "      <td>3204</td>\n",
       "      <td>2</td>\n",
       "    </tr>\n",
       "    <tr>\n",
       "      <th>5188</th>\n",
       "      <td>2101</td>\n",
       "      <td>3228</td>\n",
       "      <td>1</td>\n",
       "    </tr>\n",
       "    <tr>\n",
       "      <th>5189</th>\n",
       "      <td>2101</td>\n",
       "      <td>3257</td>\n",
       "      <td>3</td>\n",
       "    </tr>\n",
       "    <tr>\n",
       "      <th>5190</th>\n",
       "      <td>2101</td>\n",
       "      <td>3259</td>\n",
       "      <td>1</td>\n",
       "    </tr>\n",
       "    <tr>\n",
       "      <th>5191</th>\n",
       "      <td>2101</td>\n",
       "      <td>3260</td>\n",
       "      <td>1</td>\n",
       "    </tr>\n",
       "    <tr>\n",
       "      <th>5192</th>\n",
       "      <td>2101</td>\n",
       "      <td>3293</td>\n",
       "      <td>3</td>\n",
       "    </tr>\n",
       "    <tr>\n",
       "      <th>5193</th>\n",
       "      <td>2101</td>\n",
       "      <td>3306</td>\n",
       "      <td>1</td>\n",
       "    </tr>\n",
       "    <tr>\n",
       "      <th>5194</th>\n",
       "      <td>2101</td>\n",
       "      <td>3406</td>\n",
       "      <td>1</td>\n",
       "    </tr>\n",
       "    <tr>\n",
       "      <th>5195</th>\n",
       "      <td>2101</td>\n",
       "      <td>3442</td>\n",
       "      <td>1</td>\n",
       "    </tr>\n",
       "    <tr>\n",
       "      <th>5196</th>\n",
       "      <td>2101</td>\n",
       "      <td>3449</td>\n",
       "      <td>1</td>\n",
       "    </tr>\n",
       "    <tr>\n",
       "      <th>5197</th>\n",
       "      <td>2101</td>\n",
       "      <td>3650</td>\n",
       "      <td>1</td>\n",
       "    </tr>\n",
       "  </tbody>\n",
       "</table>\n",
       "<p>5198 rows × 3 columns</p>\n",
       "</div>"
      ],
      "text/plain": [
       "      pro_cde  lic_id  Tp_closed_claim_count\n",
       "0         501    1143                      1\n",
       "1         501    1244                      1\n",
       "2         501    1695                      1\n",
       "3         501    1724                      1\n",
       "4         501    1971                      1\n",
       "5         501    2761                      1\n",
       "6         501    2787                      1\n",
       "7         501    3071                      1\n",
       "8         501    3472                      1\n",
       "9         501    3744                      1\n",
       "10        501    4143                      1\n",
       "11        501    4210                      1\n",
       "12        501    4264                      1\n",
       "13        501    4573                      2\n",
       "14        501    4621                      1\n",
       "15        501    4904                      1\n",
       "16        501    5141                      1\n",
       "17        501    5152                      1\n",
       "18        501    5300                      1\n",
       "19        501    5440                      1\n",
       "20        501    5496                      1\n",
       "21        501    5556                      1\n",
       "22        501    5789                      1\n",
       "23        501    6128                      1\n",
       "24        501    6199                      1\n",
       "25        501    6333                      1\n",
       "26        501    6339                      1\n",
       "27        501    6350                      1\n",
       "28        501    8474                      1\n",
       "29        501    8636                      1\n",
       "...       ...     ...                    ...\n",
       "5168     2101    2801                      2\n",
       "5169     2101    2803                      3\n",
       "5170     2101    2805                      2\n",
       "5171     2101    2817                      1\n",
       "5172     2101    2834                      3\n",
       "5173     2101    2842                      4\n",
       "5174     2101    2856                      1\n",
       "5175     2101    2896                      1\n",
       "5176     2101    2908                      1\n",
       "5177     2101    2933                      2\n",
       "5178     2101    2951                      1\n",
       "5179     2101    2957                      1\n",
       "5180     2101    2981                      1\n",
       "5181     2101    2989                      3\n",
       "5182     2101    3037                      1\n",
       "5183     2101    3053                      2\n",
       "5184     2101    3151                      1\n",
       "5185     2101    3174                      2\n",
       "5186     2101    3193                      1\n",
       "5187     2101    3204                      2\n",
       "5188     2101    3228                      1\n",
       "5189     2101    3257                      3\n",
       "5190     2101    3259                      1\n",
       "5191     2101    3260                      1\n",
       "5192     2101    3293                      3\n",
       "5193     2101    3306                      1\n",
       "5194     2101    3406                      1\n",
       "5195     2101    3442                      1\n",
       "5196     2101    3449                      1\n",
       "5197     2101    3650                      1\n",
       "\n",
       "[5198 rows x 3 columns]"
      ]
     },
     "execution_count": 195,
     "metadata": {},
     "output_type": "execute_result"
    }
   ],
   "source": [
    "d10a"
   ]
  },
  {
   "cell_type": "code",
   "execution_count": null,
   "metadata": {
    "collapsed": true
   },
   "outputs": [],
   "source": []
  }
 ],
 "metadata": {
  "anaconda-cloud": {},
  "kernelspec": {
   "display_name": "Python [Root]",
   "language": "python",
   "name": "Python [Root]"
  },
  "language_info": {
   "codemirror_mode": {
    "name": "ipython",
    "version": 3
   },
   "file_extension": ".py",
   "mimetype": "text/x-python",
   "name": "python",
   "nbconvert_exporter": "python",
   "pygments_lexer": "ipython3",
   "version": "3.5.2"
  }
 },
 "nbformat": 4,
 "nbformat_minor": 0
}
